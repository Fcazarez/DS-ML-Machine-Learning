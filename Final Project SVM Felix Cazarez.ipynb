{
 "cells": [
  {
   "cell_type": "markdown",
   "metadata": {
    "id": "Ps4tm88OUZdM"
   },
   "source": [
    "## **COMP-2704 (234311) Supervised Machine Learning**\n",
    "## **Felix Cazarez**\n",
    "## **EDA - Exploratory Data Analysis**\n",
    "## Project: Stroke Prediction\n"
   ]
  },
  {
   "cell_type": "markdown",
   "metadata": {
    "id": "X609RD4IU4C4"
   },
   "source": [
    "## **Summary**\n",
    "An accurate database was selected from Kaggle to predict future stroke attacks in patients. Ten features were chosen, with one dropped. The variables were divided into two groups, categorical and numerical, which contribute to the model as behavioural variables. During cleaning, 201 null values(4%) were replaced with the mean, and BMI dropped due to the weak correlation with the tag. One column had a label of positive or negative stroke and the label. Two features had imbalanced data and outliers but were kept and will be treated with resampling, class weighting or data augmentation to avoid loss of prediction accuracy. (100 words)\n",
    "\n",
    "\n",
    "\n",
    "\n",
    " \n",
    "\n",
    "\n",
    "\n"
   ]
  },
  {
   "cell_type": "markdown",
   "metadata": {
    "id": "VyYc2ocV00Js"
   },
   "source": [
    "## ***Use Case:*** \n",
    "The prediction of strokes will be usefull for neurologist, cardiologist, hospitals, governments and patients to detect possible risk of stroke attack on time and treat this dangerous problem on time in a preventive maner. \n",
    "Than means savings in medical treatment for government, improve the population productivity ans a better quality of life for patients and people. \n",
    "\n",
    "The database was extracted from Kaggle from the attached source, special thank to Federico Soriano Palacios for de database. \n",
    "\n",
    "## DataBase Source:\n",
    "  fedesoriano. (n.d.). Stroke prediction dataset. Kaggle. Retrieved January 22, 2023, from https://www.kaggle.com/datasets/fedesoriano/stroke-prediction-dataset\n",
    "\n"
   ]
  },
  {
   "cell_type": "markdown",
   "metadata": {
    "id": "nb1R2jBgUjom"
   },
   "source": [
    "## Importing libraries"
   ]
  },
  {
   "cell_type": "code",
   "execution_count": 1,
   "metadata": {},
   "outputs": [
    {
     "name": "stdout",
     "output_type": "stream",
     "text": [
      "Requirement already satisfied: pydotplus in ./venv/lib/python3.6/site-packages (2.0.2)\r\n",
      "Requirement already satisfied: pyparsing>=2.0.1 in ./venv/lib/python3.6/site-packages (from pydotplus) (3.0.9)\r\n"
     ]
    }
   ],
   "source": [
    "# !pip install -U scikit-learn\n",
    "! pip install pydotplus"
   ]
  },
  {
   "cell_type": "code",
   "execution_count": 2,
   "metadata": {
    "id": "FFIb88izUSt4"
   },
   "outputs": [],
   "source": [
    "from IPython.display import Image\n",
    "from matplotlib.pyplot import figure\n",
    "from prettytable import PrettyTable\n",
    "from sklearn.impute import KNNImputer\n",
    "from sklearn.metrics import accuracy_score\n",
    "from sklearn.metrics import classification_report\n",
    "from sklearn.metrics import accuracy_score, precision_score, recall_score\n",
    "from sklearn.metrics import confusion_matrix\n",
    "from sklearn.metrics import precision_score, confusion_matrix\n",
    "from sklearn.metrics import precision_score, recall_score, f1_score, confusion_matrix\n",
    "from sklearn.model_selection import GridSearchCV\n",
    "from sklearn.model_selection import train_test_split\n",
    "from sklearn.preprocessing import LabelEncoder\n",
    "from sklearn.preprocessing import StandardScaler\n",
    "from sklearn.svm import SVC\n",
    "from sklearn.tree import DecisionTreeClassifier\n",
    "from sklearn.tree import export_graphviz\n",
    "import graphviz\n",
    "import matplotlib as plt\n",
    "import matplotlib.pyplot as plt\n",
    "import numpy as np\n",
    "import pandas as pd\n",
    "import pydotplus\n",
    "import seaborn as sns\n",
    "import utils"
   ]
  },
  {
   "cell_type": "markdown",
   "metadata": {
    "id": "ChwCoqPL2w4y"
   },
   "source": [
    "### **Importing data set:**, this data set was extracted from this location in Kaggle: stroke-prediction-dataset, and it was uploaded to my Github to make it available anywhere."
   ]
  },
  {
   "cell_type": "code",
   "execution_count": 3,
   "metadata": {
    "colab": {
     "base_uri": "https://localhost:8080/",
     "height": 206
    },
    "id": "HAFKedNtUUtB",
    "outputId": "ecfe4e3d-0092-45cd-8acd-0942009d887f"
   },
   "outputs": [],
   "source": [
    "url = 'https://raw.githubusercontent.com/Fcazarez/DSML/main/healthcare-dataset-stroke-data.csv'"
   ]
  },
  {
   "cell_type": "code",
   "execution_count": 4,
   "metadata": {},
   "outputs": [
    {
     "data": {
      "text/html": [
       "<div>\n",
       "<style scoped>\n",
       "    .dataframe tbody tr th:only-of-type {\n",
       "        vertical-align: middle;\n",
       "    }\n",
       "\n",
       "    .dataframe tbody tr th {\n",
       "        vertical-align: top;\n",
       "    }\n",
       "\n",
       "    .dataframe thead th {\n",
       "        text-align: right;\n",
       "    }\n",
       "</style>\n",
       "<table border=\"1\" class=\"dataframe\">\n",
       "  <thead>\n",
       "    <tr style=\"text-align: right;\">\n",
       "      <th></th>\n",
       "      <th>id</th>\n",
       "      <th>gender</th>\n",
       "      <th>age</th>\n",
       "      <th>hypertension</th>\n",
       "      <th>heart_disease</th>\n",
       "      <th>ever_married</th>\n",
       "      <th>work_type</th>\n",
       "      <th>Residence_type</th>\n",
       "      <th>avg_glucose_level</th>\n",
       "      <th>bmi</th>\n",
       "      <th>smoking_status</th>\n",
       "      <th>stroke</th>\n",
       "    </tr>\n",
       "  </thead>\n",
       "  <tbody>\n",
       "    <tr>\n",
       "      <th>0</th>\n",
       "      <td>9046</td>\n",
       "      <td>Male</td>\n",
       "      <td>67.0</td>\n",
       "      <td>0</td>\n",
       "      <td>1</td>\n",
       "      <td>Yes</td>\n",
       "      <td>Private</td>\n",
       "      <td>Urban</td>\n",
       "      <td>228.69</td>\n",
       "      <td>36.6</td>\n",
       "      <td>formerly smoked</td>\n",
       "      <td>1</td>\n",
       "    </tr>\n",
       "    <tr>\n",
       "      <th>1</th>\n",
       "      <td>51676</td>\n",
       "      <td>Female</td>\n",
       "      <td>61.0</td>\n",
       "      <td>0</td>\n",
       "      <td>0</td>\n",
       "      <td>Yes</td>\n",
       "      <td>Self-employed</td>\n",
       "      <td>Rural</td>\n",
       "      <td>202.21</td>\n",
       "      <td>NaN</td>\n",
       "      <td>never smoked</td>\n",
       "      <td>1</td>\n",
       "    </tr>\n",
       "    <tr>\n",
       "      <th>2</th>\n",
       "      <td>31112</td>\n",
       "      <td>Male</td>\n",
       "      <td>80.0</td>\n",
       "      <td>0</td>\n",
       "      <td>1</td>\n",
       "      <td>Yes</td>\n",
       "      <td>Private</td>\n",
       "      <td>Rural</td>\n",
       "      <td>105.92</td>\n",
       "      <td>32.5</td>\n",
       "      <td>never smoked</td>\n",
       "      <td>1</td>\n",
       "    </tr>\n",
       "    <tr>\n",
       "      <th>3</th>\n",
       "      <td>60182</td>\n",
       "      <td>Female</td>\n",
       "      <td>49.0</td>\n",
       "      <td>0</td>\n",
       "      <td>0</td>\n",
       "      <td>Yes</td>\n",
       "      <td>Private</td>\n",
       "      <td>Urban</td>\n",
       "      <td>171.23</td>\n",
       "      <td>34.4</td>\n",
       "      <td>smokes</td>\n",
       "      <td>1</td>\n",
       "    </tr>\n",
       "    <tr>\n",
       "      <th>4</th>\n",
       "      <td>1665</td>\n",
       "      <td>Female</td>\n",
       "      <td>79.0</td>\n",
       "      <td>1</td>\n",
       "      <td>0</td>\n",
       "      <td>Yes</td>\n",
       "      <td>Self-employed</td>\n",
       "      <td>Rural</td>\n",
       "      <td>174.12</td>\n",
       "      <td>24.0</td>\n",
       "      <td>never smoked</td>\n",
       "      <td>1</td>\n",
       "    </tr>\n",
       "  </tbody>\n",
       "</table>\n",
       "</div>"
      ],
      "text/plain": [
       "      id  gender   age  hypertension  heart_disease ever_married  \\\n",
       "0   9046    Male  67.0             0              1          Yes   \n",
       "1  51676  Female  61.0             0              0          Yes   \n",
       "2  31112    Male  80.0             0              1          Yes   \n",
       "3  60182  Female  49.0             0              0          Yes   \n",
       "4   1665  Female  79.0             1              0          Yes   \n",
       "\n",
       "       work_type Residence_type  avg_glucose_level   bmi   smoking_status  \\\n",
       "0        Private          Urban             228.69  36.6  formerly smoked   \n",
       "1  Self-employed          Rural             202.21   NaN     never smoked   \n",
       "2        Private          Rural             105.92  32.5     never smoked   \n",
       "3        Private          Urban             171.23  34.4           smokes   \n",
       "4  Self-employed          Rural             174.12  24.0     never smoked   \n",
       "\n",
       "   stroke  \n",
       "0       1  \n",
       "1       1  \n",
       "2       1  \n",
       "3       1  \n",
       "4       1  "
      ]
     },
     "execution_count": 4,
     "metadata": {},
     "output_type": "execute_result"
    }
   ],
   "source": [
    "df = pd.read_csv('healthcare-dataset-stroke-data.csv', encoding=\"unicode_escape\")\n",
    "df.head()"
   ]
  },
  {
   "cell_type": "markdown",
   "metadata": {
    "id": "0Ite6ewt3MmU"
   },
   "source": [
    "### Use describe and info to have an idea of the dataset"
   ]
  },
  {
   "cell_type": "code",
   "execution_count": 5,
   "metadata": {
    "colab": {
     "base_uri": "https://localhost:8080/",
     "height": 300
    },
    "id": "MSZcuFKt0LyM",
    "outputId": "c05bfac8-80cf-419f-90fb-0ec52778c666"
   },
   "outputs": [
    {
     "data": {
      "text/html": [
       "<div>\n",
       "<style scoped>\n",
       "    .dataframe tbody tr th:only-of-type {\n",
       "        vertical-align: middle;\n",
       "    }\n",
       "\n",
       "    .dataframe tbody tr th {\n",
       "        vertical-align: top;\n",
       "    }\n",
       "\n",
       "    .dataframe thead th {\n",
       "        text-align: right;\n",
       "    }\n",
       "</style>\n",
       "<table border=\"1\" class=\"dataframe\">\n",
       "  <thead>\n",
       "    <tr style=\"text-align: right;\">\n",
       "      <th></th>\n",
       "      <th>id</th>\n",
       "      <th>age</th>\n",
       "      <th>hypertension</th>\n",
       "      <th>heart_disease</th>\n",
       "      <th>avg_glucose_level</th>\n",
       "      <th>bmi</th>\n",
       "      <th>stroke</th>\n",
       "    </tr>\n",
       "  </thead>\n",
       "  <tbody>\n",
       "    <tr>\n",
       "      <th>count</th>\n",
       "      <td>5110.000000</td>\n",
       "      <td>5110.000000</td>\n",
       "      <td>5110.000000</td>\n",
       "      <td>5110.000000</td>\n",
       "      <td>5110.000000</td>\n",
       "      <td>4909.000000</td>\n",
       "      <td>5110.000000</td>\n",
       "    </tr>\n",
       "    <tr>\n",
       "      <th>mean</th>\n",
       "      <td>36517.829354</td>\n",
       "      <td>43.226614</td>\n",
       "      <td>0.097456</td>\n",
       "      <td>0.054012</td>\n",
       "      <td>106.147677</td>\n",
       "      <td>28.893237</td>\n",
       "      <td>0.048728</td>\n",
       "    </tr>\n",
       "    <tr>\n",
       "      <th>std</th>\n",
       "      <td>21161.721625</td>\n",
       "      <td>22.612647</td>\n",
       "      <td>0.296607</td>\n",
       "      <td>0.226063</td>\n",
       "      <td>45.283560</td>\n",
       "      <td>7.854067</td>\n",
       "      <td>0.215320</td>\n",
       "    </tr>\n",
       "    <tr>\n",
       "      <th>min</th>\n",
       "      <td>67.000000</td>\n",
       "      <td>0.080000</td>\n",
       "      <td>0.000000</td>\n",
       "      <td>0.000000</td>\n",
       "      <td>55.120000</td>\n",
       "      <td>10.300000</td>\n",
       "      <td>0.000000</td>\n",
       "    </tr>\n",
       "    <tr>\n",
       "      <th>25%</th>\n",
       "      <td>17741.250000</td>\n",
       "      <td>25.000000</td>\n",
       "      <td>0.000000</td>\n",
       "      <td>0.000000</td>\n",
       "      <td>77.245000</td>\n",
       "      <td>23.500000</td>\n",
       "      <td>0.000000</td>\n",
       "    </tr>\n",
       "    <tr>\n",
       "      <th>50%</th>\n",
       "      <td>36932.000000</td>\n",
       "      <td>45.000000</td>\n",
       "      <td>0.000000</td>\n",
       "      <td>0.000000</td>\n",
       "      <td>91.885000</td>\n",
       "      <td>28.100000</td>\n",
       "      <td>0.000000</td>\n",
       "    </tr>\n",
       "    <tr>\n",
       "      <th>75%</th>\n",
       "      <td>54682.000000</td>\n",
       "      <td>61.000000</td>\n",
       "      <td>0.000000</td>\n",
       "      <td>0.000000</td>\n",
       "      <td>114.090000</td>\n",
       "      <td>33.100000</td>\n",
       "      <td>0.000000</td>\n",
       "    </tr>\n",
       "    <tr>\n",
       "      <th>max</th>\n",
       "      <td>72940.000000</td>\n",
       "      <td>82.000000</td>\n",
       "      <td>1.000000</td>\n",
       "      <td>1.000000</td>\n",
       "      <td>271.740000</td>\n",
       "      <td>97.600000</td>\n",
       "      <td>1.000000</td>\n",
       "    </tr>\n",
       "  </tbody>\n",
       "</table>\n",
       "</div>"
      ],
      "text/plain": [
       "                 id          age  hypertension  heart_disease  \\\n",
       "count   5110.000000  5110.000000   5110.000000    5110.000000   \n",
       "mean   36517.829354    43.226614      0.097456       0.054012   \n",
       "std    21161.721625    22.612647      0.296607       0.226063   \n",
       "min       67.000000     0.080000      0.000000       0.000000   \n",
       "25%    17741.250000    25.000000      0.000000       0.000000   \n",
       "50%    36932.000000    45.000000      0.000000       0.000000   \n",
       "75%    54682.000000    61.000000      0.000000       0.000000   \n",
       "max    72940.000000    82.000000      1.000000       1.000000   \n",
       "\n",
       "       avg_glucose_level          bmi       stroke  \n",
       "count        5110.000000  4909.000000  5110.000000  \n",
       "mean          106.147677    28.893237     0.048728  \n",
       "std            45.283560     7.854067     0.215320  \n",
       "min            55.120000    10.300000     0.000000  \n",
       "25%            77.245000    23.500000     0.000000  \n",
       "50%            91.885000    28.100000     0.000000  \n",
       "75%           114.090000    33.100000     0.000000  \n",
       "max           271.740000    97.600000     1.000000  "
      ]
     },
     "execution_count": 5,
     "metadata": {},
     "output_type": "execute_result"
    }
   ],
   "source": [
    "df.describe()"
   ]
  },
  {
   "cell_type": "code",
   "execution_count": 6,
   "metadata": {
    "colab": {
     "base_uri": "https://localhost:8080/"
    },
    "id": "JwL5B7OFWtE-",
    "outputId": "1e730dd1-f506-4c99-e48b-b20740a7bfd6"
   },
   "outputs": [
    {
     "name": "stdout",
     "output_type": "stream",
     "text": [
      "<class 'pandas.core.frame.DataFrame'>\n",
      "RangeIndex: 5110 entries, 0 to 5109\n",
      "Data columns (total 12 columns):\n",
      " #   Column             Non-Null Count  Dtype  \n",
      "---  ------             --------------  -----  \n",
      " 0   id                 5110 non-null   int64  \n",
      " 1   gender             5110 non-null   object \n",
      " 2   age                5110 non-null   float64\n",
      " 3   hypertension       5110 non-null   int64  \n",
      " 4   heart_disease      5110 non-null   int64  \n",
      " 5   ever_married       5110 non-null   object \n",
      " 6   work_type          5110 non-null   object \n",
      " 7   Residence_type     5110 non-null   object \n",
      " 8   avg_glucose_level  5110 non-null   float64\n",
      " 9   bmi                4909 non-null   float64\n",
      " 10  smoking_status     5110 non-null   object \n",
      " 11  stroke             5110 non-null   int64  \n",
      "dtypes: float64(3), int64(4), object(5)\n",
      "memory usage: 479.2+ KB\n"
     ]
    }
   ],
   "source": [
    "df.info()"
   ]
  },
  {
   "cell_type": "markdown",
   "metadata": {
    "id": "1l0r4wrwTj4Q"
   },
   "source": [
    "### After this command missing values were found, we need to drop or fill with the mean "
   ]
  },
  {
   "cell_type": "code",
   "execution_count": 7,
   "metadata": {
    "colab": {
     "base_uri": "https://localhost:8080/"
    },
    "id": "GOKHo9Y4WtRq",
    "outputId": "d4e98d0a-cf68-4912-a994-07e9fc52f878"
   },
   "outputs": [
    {
     "data": {
      "text/plain": [
       "id                     0\n",
       "gender                 0\n",
       "age                    0\n",
       "hypertension           0\n",
       "heart_disease          0\n",
       "ever_married           0\n",
       "work_type              0\n",
       "Residence_type         0\n",
       "avg_glucose_level      0\n",
       "bmi                  201\n",
       "smoking_status         0\n",
       "stroke                 0\n",
       "dtype: int64"
      ]
     },
     "execution_count": 7,
     "metadata": {},
     "output_type": "execute_result"
    }
   ],
   "source": [
    "df.isnull().sum()"
   ]
  },
  {
   "cell_type": "markdown",
   "metadata": {
    "id": "jR15bAf15Wlw"
   },
   "source": [
    "### **Missing Values Handling:** There are 201 null values in bmi. 3,93% of Dataframe, so we could delete with afecting prediction. Even though we can fill it with te mean to not loose any information."
   ]
  },
  {
   "cell_type": "code",
   "execution_count": 8,
   "metadata": {
    "colab": {
     "base_uri": "https://localhost:8080/"
    },
    "id": "-7F2JIM95f3P",
    "outputId": "51d55104-bf5f-4c16-92b3-d658de7ce84a"
   },
   "outputs": [
    {
     "data": {
      "text/plain": [
       "(5110, 12)"
      ]
     },
     "execution_count": 8,
     "metadata": {},
     "output_type": "execute_result"
    }
   ],
   "source": [
    "df.shape"
   ]
  },
  {
   "cell_type": "code",
   "execution_count": 9,
   "metadata": {
    "colab": {
     "base_uri": "https://localhost:8080/"
    },
    "id": "gGFrZvzp60SD",
    "outputId": "f06e0d0b-07b0-49d7-c5d0-d78db58bed8b"
   },
   "outputs": [
    {
     "data": {
      "text/plain": [
       "28.7    41\n",
       "28.4    38\n",
       "26.7    37\n",
       "27.7    37\n",
       "26.1    37\n",
       "        ..\n",
       "13.9     1\n",
       "49.9     1\n",
       "40.6     1\n",
       "52.3     1\n",
       "44.1     1\n",
       "Name: bmi, Length: 418, dtype: int64"
      ]
     },
     "execution_count": 9,
     "metadata": {},
     "output_type": "execute_result"
    }
   ],
   "source": [
    "df[\"bmi\"].value_counts()"
   ]
  },
  {
   "cell_type": "markdown",
   "metadata": {
    "id": "WoCGrXkkT6WR"
   },
   "source": [
    "### Verifying the shape of the data ti decide if drop or keep with them"
   ]
  },
  {
   "cell_type": "code",
   "execution_count": 10,
   "metadata": {
    "colab": {
     "base_uri": "https://localhost:8080/"
    },
    "id": "5HmxPwHz60VN",
    "outputId": "a5d9457e-ed00-4b6a-ba2e-f79717439cf6"
   },
   "outputs": [
    {
     "data": {
      "text/plain": [
       "count    4909.000000\n",
       "mean       28.893237\n",
       "std         7.854067\n",
       "min        10.300000\n",
       "25%        23.500000\n",
       "50%        28.100000\n",
       "75%        33.100000\n",
       "max        97.600000\n",
       "Name: bmi, dtype: float64"
      ]
     },
     "execution_count": 10,
     "metadata": {},
     "output_type": "execute_result"
    }
   ],
   "source": [
    "df[\"bmi\"].describe()"
   ]
  },
  {
   "cell_type": "markdown",
   "metadata": {
    "id": "2lASeeFcUFmG"
   },
   "source": [
    "### mean calculation is about 28.89"
   ]
  },
  {
   "cell_type": "code",
   "execution_count": 11,
   "metadata": {
    "id": "y8mnwWRZ60Yq"
   },
   "outputs": [],
   "source": [
    "df[\"bmi\"].fillna(df[\"bmi\"].mean(), inplace =True)"
   ]
  },
  {
   "cell_type": "code",
   "execution_count": 12,
   "metadata": {
    "colab": {
     "base_uri": "https://localhost:8080/"
    },
    "id": "rzO4EbT260f1",
    "outputId": "f4ff1642-53f0-4009-d52d-c9ab36e50362"
   },
   "outputs": [
    {
     "data": {
      "text/plain": [
       "id                   0\n",
       "gender               0\n",
       "age                  0\n",
       "hypertension         0\n",
       "heart_disease        0\n",
       "ever_married         0\n",
       "work_type            0\n",
       "Residence_type       0\n",
       "avg_glucose_level    0\n",
       "bmi                  0\n",
       "smoking_status       0\n",
       "stroke               0\n",
       "dtype: int64"
      ]
     },
     "execution_count": 12,
     "metadata": {},
     "output_type": "execute_result"
    }
   ],
   "source": [
    "df.isnull().sum()"
   ]
  },
  {
   "cell_type": "markdown",
   "metadata": {
    "id": "699xth4faCTD"
   },
   "source": [
    "### Filling the null values with KNNImputer feature with k-Nearest Neighbors method from SciLearn"
   ]
  },
  {
   "cell_type": "code",
   "execution_count": 13,
   "metadata": {
    "id": "BazjAdXvZ4qP"
   },
   "outputs": [],
   "source": [
    "imputer = KNNImputer(n_neighbors = 5)\n",
    "df[\"bmi\"]= imputer.fit_transform(df[[\"bmi\"]])"
   ]
  },
  {
   "cell_type": "code",
   "execution_count": 14,
   "metadata": {
    "colab": {
     "base_uri": "https://localhost:8080/"
    },
    "id": "Fm2kMsjYZ7e1",
    "outputId": "3db88e68-a16a-4f5b-f243-8e1d5720752a"
   },
   "outputs": [
    {
     "data": {
      "text/plain": [
       "count    5110.000000\n",
       "mean       28.893237\n",
       "std         7.698018\n",
       "min        10.300000\n",
       "25%        23.800000\n",
       "50%        28.400000\n",
       "75%        32.800000\n",
       "max        97.600000\n",
       "Name: bmi, dtype: float64"
      ]
     },
     "execution_count": 14,
     "metadata": {},
     "output_type": "execute_result"
    }
   ],
   "source": [
    "df[\"bmi\"].describe()"
   ]
  },
  {
   "cell_type": "code",
   "execution_count": 15,
   "metadata": {
    "colab": {
     "base_uri": "https://localhost:8080/"
    },
    "id": "yNE6ADSMZ-SK",
    "outputId": "4ecf3cc4-ccdd-4733-ac24-c54993a6d2a7"
   },
   "outputs": [
    {
     "data": {
      "text/plain": [
       "id                   0\n",
       "gender               0\n",
       "age                  0\n",
       "hypertension         0\n",
       "heart_disease        0\n",
       "ever_married         0\n",
       "work_type            0\n",
       "Residence_type       0\n",
       "avg_glucose_level    0\n",
       "bmi                  0\n",
       "smoking_status       0\n",
       "stroke               0\n",
       "dtype: int64"
      ]
     },
     "execution_count": 15,
     "metadata": {},
     "output_type": "execute_result"
    }
   ],
   "source": [
    "df.isnull().sum()"
   ]
  },
  {
   "cell_type": "markdown",
   "metadata": {
    "id": "HvRe0D1bhehm"
   },
   "source": [
    "### **Verifying duplicated values:** "
   ]
  },
  {
   "cell_type": "code",
   "execution_count": 16,
   "metadata": {
    "colab": {
     "base_uri": "https://localhost:8080/"
    },
    "id": "ouyZPmmnhIKS",
    "outputId": "95e94df9-8386-4db1-9f0b-f5b062fc8b56"
   },
   "outputs": [
    {
     "data": {
      "text/plain": [
       "0"
      ]
     },
     "execution_count": 16,
     "metadata": {},
     "output_type": "execute_result"
    }
   ],
   "source": [
    "df.duplicated(\"id\").sum()"
   ]
  },
  {
   "cell_type": "markdown",
   "metadata": {
    "id": "pHpuq2SN-P-Y"
   },
   "source": [
    "### **Dimensionally reduction:** Id parameter is not needed, it could be drooped. Bmi was droped becouse the weak correlation. "
   ]
  },
  {
   "cell_type": "code",
   "execution_count": 17,
   "metadata": {
    "colab": {
     "base_uri": "https://localhost:8080/",
     "height": 814
    },
    "id": "8bMKpn0j60i3",
    "outputId": "596fc8a6-4ce3-4a5f-b934-c93d1df1a124"
   },
   "outputs": [
    {
     "name": "stdout",
     "output_type": "stream",
     "text": [
      "<class 'pandas.core.frame.DataFrame'>\n",
      "RangeIndex: 5110 entries, 0 to 5109\n",
      "Data columns (total 11 columns):\n",
      " #   Column             Non-Null Count  Dtype  \n",
      "---  ------             --------------  -----  \n",
      " 0   gender             5110 non-null   object \n",
      " 1   age                5110 non-null   float64\n",
      " 2   hypertension       5110 non-null   int64  \n",
      " 3   heart_disease      5110 non-null   int64  \n",
      " 4   ever_married       5110 non-null   object \n",
      " 5   work_type          5110 non-null   object \n",
      " 6   Residence_type     5110 non-null   object \n",
      " 7   avg_glucose_level  5110 non-null   float64\n",
      " 8   bmi                5110 non-null   float64\n",
      " 9   smoking_status     5110 non-null   object \n",
      " 10  stroke             5110 non-null   int64  \n",
      "dtypes: float64(3), int64(3), object(5)\n",
      "memory usage: 439.3+ KB\n"
     ]
    }
   ],
   "source": [
    "df.drop(\"id\",axis=1,inplace=True)\n",
    "df.info()"
   ]
  },
  {
   "cell_type": "markdown",
   "metadata": {
    "id": "VnnsJIwrlYV2"
   },
   "source": [
    "### Check the correlation of numerical values:"
   ]
  },
  {
   "cell_type": "markdown",
   "metadata": {
    "id": "zVnzVuFJtvVL"
   },
   "source": [
    "### Depict the correlations to a better appreciation. "
   ]
  },
  {
   "cell_type": "code",
   "execution_count": 18,
   "metadata": {
    "colab": {
     "base_uri": "https://localhost:8080/",
     "height": 438
    },
    "id": "RC6jAYE6uVN3",
    "outputId": "e2146d8b-8929-4e5a-8e28-425a76de1c0e"
   },
   "outputs": [
    {
     "data": {
      "image/png": "[encoded data removed]",
      "text/plain": [
       "<Figure size 432x288 with 2 Axes>"
      ]
     },
     "metadata": {
      "needs_background": "light"
     },
     "output_type": "display_data"
    }
   ],
   "source": [
    "corr = df.corr()\n",
    "\n",
    "sns.heatmap(corr, \n",
    "            xticklabels=corr.columns, \n",
    "            yticklabels=corr.columns, \n",
    "            cmap='coolwarm',\n",
    "            annot=True,\n",
    "            annot_kws={'size': 12},\n",
    "            fmt=\".2f\",\n",
    "            cbar=True,\n",
    "            mask= np.triu(np.ones_like(corr, dtype=np.bool_))\n",
    "           )\n",
    "plt.title(\"Correlation Heatmap\", fontsize=18)\n",
    "plt.show()"
   ]
  },
  {
   "cell_type": "markdown",
   "metadata": {
    "id": "WFI86iwIyS8Q"
   },
   "source": [
    "### the correlation between the Tag (stroke) and bmi is too weak, better we drop it"
   ]
  },
  {
   "cell_type": "code",
   "execution_count": 19,
   "metadata": {
    "id": "7I6UZV9d1Joy"
   },
   "outputs": [],
   "source": [
    "df.drop(\"bmi\",axis=1,inplace=True)\n"
   ]
  },
  {
   "cell_type": "code",
   "execution_count": 20,
   "metadata": {
    "colab": {
     "base_uri": "https://localhost:8080/",
     "height": 206
    },
    "id": "7fj02qB12OVA",
    "outputId": "4bbbae43-f589-42e7-9935-33d4f0a136f8"
   },
   "outputs": [
    {
     "data": {
      "text/html": [
       "<div>\n",
       "<style scoped>\n",
       "    .dataframe tbody tr th:only-of-type {\n",
       "        vertical-align: middle;\n",
       "    }\n",
       "\n",
       "    .dataframe tbody tr th {\n",
       "        vertical-align: top;\n",
       "    }\n",
       "\n",
       "    .dataframe thead th {\n",
       "        text-align: right;\n",
       "    }\n",
       "</style>\n",
       "<table border=\"1\" class=\"dataframe\">\n",
       "  <thead>\n",
       "    <tr style=\"text-align: right;\">\n",
       "      <th></th>\n",
       "      <th>gender</th>\n",
       "      <th>age</th>\n",
       "      <th>hypertension</th>\n",
       "      <th>heart_disease</th>\n",
       "      <th>ever_married</th>\n",
       "      <th>work_type</th>\n",
       "      <th>Residence_type</th>\n",
       "      <th>avg_glucose_level</th>\n",
       "      <th>smoking_status</th>\n",
       "      <th>stroke</th>\n",
       "    </tr>\n",
       "  </thead>\n",
       "  <tbody>\n",
       "    <tr>\n",
       "      <th>0</th>\n",
       "      <td>Male</td>\n",
       "      <td>67.0</td>\n",
       "      <td>0</td>\n",
       "      <td>1</td>\n",
       "      <td>Yes</td>\n",
       "      <td>Private</td>\n",
       "      <td>Urban</td>\n",
       "      <td>228.69</td>\n",
       "      <td>formerly smoked</td>\n",
       "      <td>1</td>\n",
       "    </tr>\n",
       "    <tr>\n",
       "      <th>1</th>\n",
       "      <td>Female</td>\n",
       "      <td>61.0</td>\n",
       "      <td>0</td>\n",
       "      <td>0</td>\n",
       "      <td>Yes</td>\n",
       "      <td>Self-employed</td>\n",
       "      <td>Rural</td>\n",
       "      <td>202.21</td>\n",
       "      <td>never smoked</td>\n",
       "      <td>1</td>\n",
       "    </tr>\n",
       "    <tr>\n",
       "      <th>2</th>\n",
       "      <td>Male</td>\n",
       "      <td>80.0</td>\n",
       "      <td>0</td>\n",
       "      <td>1</td>\n",
       "      <td>Yes</td>\n",
       "      <td>Private</td>\n",
       "      <td>Rural</td>\n",
       "      <td>105.92</td>\n",
       "      <td>never smoked</td>\n",
       "      <td>1</td>\n",
       "    </tr>\n",
       "    <tr>\n",
       "      <th>3</th>\n",
       "      <td>Female</td>\n",
       "      <td>49.0</td>\n",
       "      <td>0</td>\n",
       "      <td>0</td>\n",
       "      <td>Yes</td>\n",
       "      <td>Private</td>\n",
       "      <td>Urban</td>\n",
       "      <td>171.23</td>\n",
       "      <td>smokes</td>\n",
       "      <td>1</td>\n",
       "    </tr>\n",
       "    <tr>\n",
       "      <th>4</th>\n",
       "      <td>Female</td>\n",
       "      <td>79.0</td>\n",
       "      <td>1</td>\n",
       "      <td>0</td>\n",
       "      <td>Yes</td>\n",
       "      <td>Self-employed</td>\n",
       "      <td>Rural</td>\n",
       "      <td>174.12</td>\n",
       "      <td>never smoked</td>\n",
       "      <td>1</td>\n",
       "    </tr>\n",
       "  </tbody>\n",
       "</table>\n",
       "</div>"
      ],
      "text/plain": [
       "   gender   age  hypertension  heart_disease ever_married      work_type  \\\n",
       "0    Male  67.0             0              1          Yes        Private   \n",
       "1  Female  61.0             0              0          Yes  Self-employed   \n",
       "2    Male  80.0             0              1          Yes        Private   \n",
       "3  Female  49.0             0              0          Yes        Private   \n",
       "4  Female  79.0             1              0          Yes  Self-employed   \n",
       "\n",
       "  Residence_type  avg_glucose_level   smoking_status  stroke  \n",
       "0          Urban             228.69  formerly smoked       1  \n",
       "1          Rural             202.21     never smoked       1  \n",
       "2          Rural             105.92     never smoked       1  \n",
       "3          Urban             171.23           smokes       1  \n",
       "4          Rural             174.12     never smoked       1  "
      ]
     },
     "execution_count": 20,
     "metadata": {},
     "output_type": "execute_result"
    }
   ],
   "source": [
    "df.head()"
   ]
  },
  {
   "cell_type": "markdown",
   "metadata": {
    "id": "agF0G_BJDcZC"
   },
   "source": [
    "### **Remove outliers:**"
   ]
  },
  {
   "cell_type": "code",
   "execution_count": 21,
   "metadata": {
    "id": "FFu3HhcAG2hD"
   },
   "outputs": [],
   "source": [
    "\n",
    "plt.rcParams[\"figure.figsize\"]=(10, 10)"
   ]
  },
  {
   "cell_type": "code",
   "execution_count": 22,
   "metadata": {
    "colab": {
     "base_uri": "https://localhost:8080/",
     "height": 609
    },
    "id": "7wZ9ibi5DkGH",
    "outputId": "0af9b39f-5619-4cfb-e347-4e7246db62df"
   },
   "outputs": [
    {
     "data": {
      "text/plain": [
       "<Figure size 1440x720 with 0 Axes>"
      ]
     },
     "metadata": {},
     "output_type": "display_data"
    },
    {
     "data": {
      "image/png": "[encoded data removed]",
      "text/plain": [
       "<Figure size 720x720 with 1 Axes>"
      ]
     },
     "metadata": {
      "needs_background": "light"
     },
     "output_type": "display_data"
    }
   ],
   "source": [
    "plt.figure(figsize= (20,10))\n",
    "df.plot(kind = \"box\")\n",
    "plt.show()"
   ]
  },
  {
   "cell_type": "markdown",
   "metadata": {
    "id": "83mzBP5z_5nL"
   },
   "source": [
    "### Explore the shape of glucose data "
   ]
  },
  {
   "cell_type": "code",
   "execution_count": 23,
   "metadata": {
    "colab": {
     "base_uri": "https://localhost:8080/"
    },
    "id": "S3DF3pvIDkJO",
    "outputId": "461a6118-6851-4759-dc99-0fa825d27ff3"
   },
   "outputs": [
    {
     "data": {
      "text/plain": [
       "count    5110.000000\n",
       "mean      106.147677\n",
       "std        45.283560\n",
       "min        55.120000\n",
       "25%        77.245000\n",
       "50%        91.885000\n",
       "75%       114.090000\n",
       "max       271.740000\n",
       "Name: avg_glucose_level, dtype: float64"
      ]
     },
     "execution_count": 23,
     "metadata": {},
     "output_type": "execute_result"
    }
   ],
   "source": [
    "df['avg_glucose_level'].describe()"
   ]
  },
  {
   "cell_type": "markdown",
   "metadata": {
    "id": "6M20MXmNVL0W"
   },
   "source": [
    "### Is not posssible to drop the outliers, so those are too many and we can affect the predictions"
   ]
  },
  {
   "cell_type": "code",
   "execution_count": 24,
   "metadata": {
    "colab": {
     "base_uri": "https://localhost:8080/"
    },
    "id": "GAro9O4sDkLk",
    "outputId": "d9c7cdf8-c506-4b44-bba8-98a74f27220e"
   },
   "outputs": [
    {
     "name": "stdout",
     "output_type": "stream",
     "text": [
      "<class 'pandas.core.frame.DataFrame'>\n",
      "Int64Index: 1277 entries, 0 to 5108\n",
      "Data columns (total 10 columns):\n",
      " #   Column             Non-Null Count  Dtype  \n",
      "---  ------             --------------  -----  \n",
      " 0   gender             1277 non-null   object \n",
      " 1   age                1277 non-null   float64\n",
      " 2   hypertension       1277 non-null   int64  \n",
      " 3   heart_disease      1277 non-null   int64  \n",
      " 4   ever_married       1277 non-null   object \n",
      " 5   work_type          1277 non-null   object \n",
      " 6   Residence_type     1277 non-null   object \n",
      " 7   avg_glucose_level  1277 non-null   float64\n",
      " 8   smoking_status     1277 non-null   object \n",
      " 9   stroke             1277 non-null   int64  \n",
      "dtypes: float64(2), int64(3), object(5)\n",
      "memory usage: 109.7+ KB\n"
     ]
    }
   ],
   "source": [
    "df[df[\"avg_glucose_level\"]>114.090000].info()"
   ]
  },
  {
   "cell_type": "code",
   "execution_count": 25,
   "metadata": {
    "colab": {
     "base_uri": "https://localhost:8080/"
    },
    "id": "f9TvxYWmDkOv",
    "outputId": "bd45ecf4-0a6f-4597-ec9f-1240400b453c"
   },
   "outputs": [
    {
     "data": {
      "text/plain": [
       "count    5110.000000\n",
       "mean      106.147677\n",
       "std        45.283560\n",
       "min        55.120000\n",
       "25%        77.245000\n",
       "50%        91.885000\n",
       "75%       114.090000\n",
       "max       271.740000\n",
       "Name: avg_glucose_level, dtype: float64"
      ]
     },
     "execution_count": 25,
     "metadata": {},
     "output_type": "execute_result"
    }
   ],
   "source": [
    "df[\"avg_glucose_level\"].describe()"
   ]
  },
  {
   "cell_type": "markdown",
   "metadata": {
    "id": "nBcggG6uXqtY"
   },
   "source": [
    "## **Features definition:**\n",
    "### 1) **gender:** \"Male\", \"Female\" or \"Other\"\n",
    "### 2) **age:** age of the patient\n",
    "### 3) **hypertension:** 0 No, 1 Yes (If the patient has previous hypertention diagnosis of)\n",
    "### 4) **heart_disease:** 0 = No, 1 = Yes (If the patient has previous heart attacks)\n",
    "### 5) **ever_married:** \"No\" or \"Yes\"\n",
    "### 6) **work_type:** \"Govt_jov\", \"Never_worked\", \"Private\" or \"Self-employed\" (If patient works for a prived institution, government, is independient employee or unemployed)\n",
    "### 7) **Residence_type:** \"Rural\" or \"Urban\"\n",
    "### 8) **avg_glucose_level:** average glucose level in blood (If the patient has previous diabetes diagnosis or high lebels of sugar in blood)\n",
    "### 9) **smoking_status:** \"formerly smoked\", \"never smoked\", \"smokes\" or \"Unknown\"*\n"
   ]
  },
  {
   "cell_type": "code",
   "execution_count": 26,
   "metadata": {
    "colab": {
     "base_uri": "https://localhost:8080/"
    },
    "id": "25GmcY9aDkQ8",
    "outputId": "044037fa-8266-4cf4-f939-62dcd21ff55e"
   },
   "outputs": [
    {
     "name": "stdout",
     "output_type": "stream",
     "text": [
      "<class 'pandas.core.frame.DataFrame'>\n",
      "RangeIndex: 5110 entries, 0 to 5109\n",
      "Data columns (total 10 columns):\n",
      " #   Column             Non-Null Count  Dtype  \n",
      "---  ------             --------------  -----  \n",
      " 0   gender             5110 non-null   object \n",
      " 1   age                5110 non-null   float64\n",
      " 2   hypertension       5110 non-null   int64  \n",
      " 3   heart_disease      5110 non-null   int64  \n",
      " 4   ever_married       5110 non-null   object \n",
      " 5   work_type          5110 non-null   object \n",
      " 6   Residence_type     5110 non-null   object \n",
      " 7   avg_glucose_level  5110 non-null   float64\n",
      " 8   smoking_status     5110 non-null   object \n",
      " 9   stroke             5110 non-null   int64  \n",
      "dtypes: float64(2), int64(3), object(5)\n",
      "memory usage: 399.3+ KB\n"
     ]
    }
   ],
   "source": [
    "df.info()"
   ]
  },
  {
   "cell_type": "markdown",
   "metadata": {
    "id": "Tofrpnt_X6X3"
   },
   "source": [
    "### **Numerical features analysis:** age, hypertension, heart_disease, avg_glucose_level, are numerical, we can analyze those"
   ]
  },
  {
   "cell_type": "code",
   "execution_count": 27,
   "metadata": {
    "colab": {
     "base_uri": "https://localhost:8080/",
     "height": 920
    },
    "id": "duG2DwhIIIhp",
    "outputId": "faf3dd0c-ed8d-4eab-f4b2-a5d0f6cbd737"
   },
   "outputs": [
    {
     "data": {
      "text/plain": [
       "<seaborn.axisgrid.PairGrid at 0x7f2175b48518>"
      ]
     },
     "execution_count": 27,
     "metadata": {},
     "output_type": "execute_result"
    },
    {
     "data": {
      "image/png": "[encoded data removed]",
      "text/plain": [
       "<Figure size 900x900 with 30 Axes>"
      ]
     },
     "metadata": {
      "needs_background": "light"
     },
     "output_type": "display_data"
    }
   ],
   "source": [
    "sns.pairplot(df, kind='scatter', diag_kind='kde', markers=[\"o\", \"s\", \"D\"])"
   ]
  },
  {
   "cell_type": "code",
   "execution_count": 28,
   "metadata": {
    "colab": {
     "base_uri": "https://localhost:8080/",
     "height": 206
    },
    "id": "BbPyYVzSDkT2",
    "outputId": "3413f437-f50d-4b62-f748-e3a00b084721"
   },
   "outputs": [
    {
     "data": {
      "text/html": [
       "<div>\n",
       "<style scoped>\n",
       "    .dataframe tbody tr th:only-of-type {\n",
       "        vertical-align: middle;\n",
       "    }\n",
       "\n",
       "    .dataframe tbody tr th {\n",
       "        vertical-align: top;\n",
       "    }\n",
       "\n",
       "    .dataframe thead th {\n",
       "        text-align: right;\n",
       "    }\n",
       "</style>\n",
       "<table border=\"1\" class=\"dataframe\">\n",
       "  <thead>\n",
       "    <tr style=\"text-align: right;\">\n",
       "      <th></th>\n",
       "      <th>age</th>\n",
       "      <th>hypertension</th>\n",
       "      <th>heart_disease</th>\n",
       "      <th>avg_glucose_level</th>\n",
       "      <th>stroke</th>\n",
       "    </tr>\n",
       "  </thead>\n",
       "  <tbody>\n",
       "    <tr>\n",
       "      <th>0</th>\n",
       "      <td>67.0</td>\n",
       "      <td>0</td>\n",
       "      <td>1</td>\n",
       "      <td>228.69</td>\n",
       "      <td>1</td>\n",
       "    </tr>\n",
       "    <tr>\n",
       "      <th>1</th>\n",
       "      <td>61.0</td>\n",
       "      <td>0</td>\n",
       "      <td>0</td>\n",
       "      <td>202.21</td>\n",
       "      <td>1</td>\n",
       "    </tr>\n",
       "    <tr>\n",
       "      <th>2</th>\n",
       "      <td>80.0</td>\n",
       "      <td>0</td>\n",
       "      <td>1</td>\n",
       "      <td>105.92</td>\n",
       "      <td>1</td>\n",
       "    </tr>\n",
       "    <tr>\n",
       "      <th>3</th>\n",
       "      <td>49.0</td>\n",
       "      <td>0</td>\n",
       "      <td>0</td>\n",
       "      <td>171.23</td>\n",
       "      <td>1</td>\n",
       "    </tr>\n",
       "    <tr>\n",
       "      <th>4</th>\n",
       "      <td>79.0</td>\n",
       "      <td>1</td>\n",
       "      <td>0</td>\n",
       "      <td>174.12</td>\n",
       "      <td>1</td>\n",
       "    </tr>\n",
       "  </tbody>\n",
       "</table>\n",
       "</div>"
      ],
      "text/plain": [
       "    age  hypertension  heart_disease  avg_glucose_level  stroke\n",
       "0  67.0             0              1             228.69       1\n",
       "1  61.0             0              0             202.21       1\n",
       "2  80.0             0              1             105.92       1\n",
       "3  49.0             0              0             171.23       1\n",
       "4  79.0             1              0             174.12       1"
      ]
     },
     "execution_count": 28,
     "metadata": {},
     "output_type": "execute_result"
    }
   ],
   "source": [
    "df_float = df[[\"age\", \"hypertension\", \"heart_disease\", \"avg_glucose_level\", \"stroke\"]]\n",
    "df_float.head()"
   ]
  },
  {
   "cell_type": "markdown",
   "metadata": {
    "id": "UGtUmU_QeX8O"
   },
   "source": [
    "### In General variables are bell shaped. Stroke is imbalanced as well as glucose, hypertension and hearth disease. "
   ]
  },
  {
   "cell_type": "markdown",
   "metadata": {
    "id": "xJp5HzxDd8uG"
   },
   "source": [
    "### **Categorical features analysis:**"
   ]
  },
  {
   "cell_type": "code",
   "execution_count": 29,
   "metadata": {
    "id": "E8YzLyF9ioR1"
   },
   "outputs": [],
   "source": [
    "df_categorical = df[[\"gender\", \"ever_married\", \"work_type\", \"Residence_type\", \"smoking_status\"]]"
   ]
  },
  {
   "cell_type": "code",
   "execution_count": 30,
   "metadata": {
    "colab": {
     "base_uri": "https://localhost:8080/",
     "height": 896
    },
    "id": "DnM-egNHWtXV",
    "outputId": "79189ecc-acfe-4dcc-f929-bec55494fe16"
   },
   "outputs": [
    {
     "data": {
      "image/png": "[encoded data removed]",
      "text/plain": [
       "<Figure size 1440x2160 with 5 Axes>"
      ]
     },
     "metadata": {},
     "output_type": "display_data"
    }
   ],
   "source": [
    "plt.figure(figsize = (20,30), facecolor = \"white\")\n",
    "plotnumber = 1\n",
    "for column in df_categorical:\n",
    "  if plotnumber <= 15:\n",
    "    ax = plt.subplot(5,3,plotnumber)\n",
    "    sns.histplot(df_categorical[column])\n",
    "    plt.xlabel(column, fontsize=20)\n",
    "  plotnumber += 1\n",
    "plt.tight_layout()"
   ]
  },
  {
   "cell_type": "markdown",
   "metadata": {
    "id": "AVxiSRUa0pjS"
   },
   "source": [
    "### The data in categorical values is almost well disributed, work type has a bias to the right, which is correct."
   ]
  },
  {
   "cell_type": "markdown",
   "metadata": {
    "id": "_PSuZAgz9B-o"
   },
   "source": [
    "## **Label Encoding:** Remove all tags and replace them for categorical numbers to make it easy for normalization"
   ]
  },
  {
   "cell_type": "code",
   "execution_count": 31,
   "metadata": {
    "colab": {
     "base_uri": "https://localhost:8080/"
    },
    "id": "dNWi4PSFWtjs",
    "outputId": "a8eab509-eab5-41c9-ab81-b198397fd3cc"
   },
   "outputs": [
    {
     "name": "stdout",
     "output_type": "stream",
     "text": [
      "<class 'pandas.core.frame.DataFrame'>\n",
      "RangeIndex: 5110 entries, 0 to 5109\n",
      "Data columns (total 10 columns):\n",
      " #   Column             Non-Null Count  Dtype  \n",
      "---  ------             --------------  -----  \n",
      " 0   gender             5110 non-null   object \n",
      " 1   age                5110 non-null   float64\n",
      " 2   hypertension       5110 non-null   int64  \n",
      " 3   heart_disease      5110 non-null   int64  \n",
      " 4   ever_married       5110 non-null   object \n",
      " 5   work_type          5110 non-null   object \n",
      " 6   Residence_type     5110 non-null   object \n",
      " 7   avg_glucose_level  5110 non-null   float64\n",
      " 8   smoking_status     5110 non-null   object \n",
      " 9   stroke             5110 non-null   int64  \n",
      "dtypes: float64(2), int64(3), object(5)\n",
      "memory usage: 399.3+ KB\n"
     ]
    }
   ],
   "source": [
    "df.info()"
   ]
  },
  {
   "cell_type": "markdown",
   "metadata": {
    "id": "Pkv0l8uI1MEs"
   },
   "source": [
    "### All dtype as object should be encoded as numbers"
   ]
  },
  {
   "cell_type": "code",
   "execution_count": 32,
   "metadata": {
    "id": "Th-22Mj5Wtmr"
   },
   "outputs": [],
   "source": [
    "enc = LabelEncoder()"
   ]
  },
  {
   "cell_type": "markdown",
   "metadata": {
    "id": "zao9ILVw1XgG"
   },
   "source": [
    "### encoding categorical values"
   ]
  },
  {
   "cell_type": "code",
   "execution_count": 33,
   "metadata": {
    "id": "hc0Z64NlWtpJ"
   },
   "outputs": [],
   "source": [
    "gender = enc.fit_transform(df[\"gender\"])\n",
    "ever_married = enc.fit_transform(df[\"ever_married\"])\n",
    "work_type = enc.fit_transform(df[\"work_type\"])\n",
    "Residence_type = enc.fit_transform(df[\"Residence_type\"])\n",
    "smoking_status = enc.fit_transform(df[\"smoking_status\"])"
   ]
  },
  {
   "cell_type": "markdown",
   "metadata": {
    "id": "PoykdvJC1eZT"
   },
   "source": [
    "### Replacing encoding in data frame"
   ]
  },
  {
   "cell_type": "code",
   "execution_count": 34,
   "metadata": {
    "id": "THcViNUG-_Uu"
   },
   "outputs": [],
   "source": [
    "df[\"gender\"]= gender\n",
    "df[\"ever_married\"]= ever_married\n",
    "df[\"work_type\"]= work_type\n",
    "df[\"Residence_type\"]= Residence_type\n",
    "df[\"smoking_status\"]= smoking_status"
   ]
  },
  {
   "cell_type": "code",
   "execution_count": 35,
   "metadata": {
    "colab": {
     "base_uri": "https://localhost:8080/"
    },
    "id": "CkvM-ABuBOxc",
    "outputId": "f10bb1ea-8ce1-4cbd-ec2a-f235441e5fe5"
   },
   "outputs": [
    {
     "name": "stdout",
     "output_type": "stream",
     "text": [
      "<class 'pandas.core.frame.DataFrame'>\n",
      "RangeIndex: 5110 entries, 0 to 5109\n",
      "Data columns (total 10 columns):\n",
      " #   Column             Non-Null Count  Dtype  \n",
      "---  ------             --------------  -----  \n",
      " 0   gender             5110 non-null   int64  \n",
      " 1   age                5110 non-null   float64\n",
      " 2   hypertension       5110 non-null   int64  \n",
      " 3   heart_disease      5110 non-null   int64  \n",
      " 4   ever_married       5110 non-null   int64  \n",
      " 5   work_type          5110 non-null   int64  \n",
      " 6   Residence_type     5110 non-null   int64  \n",
      " 7   avg_glucose_level  5110 non-null   float64\n",
      " 8   smoking_status     5110 non-null   int64  \n",
      " 9   stroke             5110 non-null   int64  \n",
      "dtypes: float64(2), int64(8)\n",
      "memory usage: 399.3 KB\n"
     ]
    }
   ],
   "source": [
    "df.info()"
   ]
  },
  {
   "cell_type": "markdown",
   "metadata": {
    "id": "PTrhm_AqBXHJ"
   },
   "source": [
    "### Now all are numbers"
   ]
  },
  {
   "cell_type": "code",
   "execution_count": 36,
   "metadata": {
    "colab": {
     "base_uri": "https://localhost:8080/",
     "height": 206
    },
    "id": "kEyIsMZ5BxOm",
    "outputId": "39c8a652-a5af-4932-b2cc-95049f1afca6"
   },
   "outputs": [
    {
     "data": {
      "text/html": [
       "<div>\n",
       "<style scoped>\n",
       "    .dataframe tbody tr th:only-of-type {\n",
       "        vertical-align: middle;\n",
       "    }\n",
       "\n",
       "    .dataframe tbody tr th {\n",
       "        vertical-align: top;\n",
       "    }\n",
       "\n",
       "    .dataframe thead th {\n",
       "        text-align: right;\n",
       "    }\n",
       "</style>\n",
       "<table border=\"1\" class=\"dataframe\">\n",
       "  <thead>\n",
       "    <tr style=\"text-align: right;\">\n",
       "      <th></th>\n",
       "      <th>gender</th>\n",
       "      <th>age</th>\n",
       "      <th>hypertension</th>\n",
       "      <th>heart_disease</th>\n",
       "      <th>ever_married</th>\n",
       "      <th>work_type</th>\n",
       "      <th>Residence_type</th>\n",
       "      <th>avg_glucose_level</th>\n",
       "      <th>smoking_status</th>\n",
       "      <th>stroke</th>\n",
       "    </tr>\n",
       "  </thead>\n",
       "  <tbody>\n",
       "    <tr>\n",
       "      <th>0</th>\n",
       "      <td>1</td>\n",
       "      <td>67.0</td>\n",
       "      <td>0</td>\n",
       "      <td>1</td>\n",
       "      <td>1</td>\n",
       "      <td>2</td>\n",
       "      <td>1</td>\n",
       "      <td>228.69</td>\n",
       "      <td>1</td>\n",
       "      <td>1</td>\n",
       "    </tr>\n",
       "    <tr>\n",
       "      <th>1</th>\n",
       "      <td>0</td>\n",
       "      <td>61.0</td>\n",
       "      <td>0</td>\n",
       "      <td>0</td>\n",
       "      <td>1</td>\n",
       "      <td>3</td>\n",
       "      <td>0</td>\n",
       "      <td>202.21</td>\n",
       "      <td>2</td>\n",
       "      <td>1</td>\n",
       "    </tr>\n",
       "    <tr>\n",
       "      <th>2</th>\n",
       "      <td>1</td>\n",
       "      <td>80.0</td>\n",
       "      <td>0</td>\n",
       "      <td>1</td>\n",
       "      <td>1</td>\n",
       "      <td>2</td>\n",
       "      <td>0</td>\n",
       "      <td>105.92</td>\n",
       "      <td>2</td>\n",
       "      <td>1</td>\n",
       "    </tr>\n",
       "    <tr>\n",
       "      <th>3</th>\n",
       "      <td>0</td>\n",
       "      <td>49.0</td>\n",
       "      <td>0</td>\n",
       "      <td>0</td>\n",
       "      <td>1</td>\n",
       "      <td>2</td>\n",
       "      <td>1</td>\n",
       "      <td>171.23</td>\n",
       "      <td>3</td>\n",
       "      <td>1</td>\n",
       "    </tr>\n",
       "    <tr>\n",
       "      <th>4</th>\n",
       "      <td>0</td>\n",
       "      <td>79.0</td>\n",
       "      <td>1</td>\n",
       "      <td>0</td>\n",
       "      <td>1</td>\n",
       "      <td>3</td>\n",
       "      <td>0</td>\n",
       "      <td>174.12</td>\n",
       "      <td>2</td>\n",
       "      <td>1</td>\n",
       "    </tr>\n",
       "    <tr>\n",
       "      <th>...</th>\n",
       "      <td>...</td>\n",
       "      <td>...</td>\n",
       "      <td>...</td>\n",
       "      <td>...</td>\n",
       "      <td>...</td>\n",
       "      <td>...</td>\n",
       "      <td>...</td>\n",
       "      <td>...</td>\n",
       "      <td>...</td>\n",
       "      <td>...</td>\n",
       "    </tr>\n",
       "    <tr>\n",
       "      <th>5105</th>\n",
       "      <td>0</td>\n",
       "      <td>80.0</td>\n",
       "      <td>1</td>\n",
       "      <td>0</td>\n",
       "      <td>1</td>\n",
       "      <td>2</td>\n",
       "      <td>1</td>\n",
       "      <td>83.75</td>\n",
       "      <td>2</td>\n",
       "      <td>0</td>\n",
       "    </tr>\n",
       "    <tr>\n",
       "      <th>5106</th>\n",
       "      <td>0</td>\n",
       "      <td>81.0</td>\n",
       "      <td>0</td>\n",
       "      <td>0</td>\n",
       "      <td>1</td>\n",
       "      <td>3</td>\n",
       "      <td>1</td>\n",
       "      <td>125.20</td>\n",
       "      <td>2</td>\n",
       "      <td>0</td>\n",
       "    </tr>\n",
       "    <tr>\n",
       "      <th>5107</th>\n",
       "      <td>0</td>\n",
       "      <td>35.0</td>\n",
       "      <td>0</td>\n",
       "      <td>0</td>\n",
       "      <td>1</td>\n",
       "      <td>3</td>\n",
       "      <td>0</td>\n",
       "      <td>82.99</td>\n",
       "      <td>2</td>\n",
       "      <td>0</td>\n",
       "    </tr>\n",
       "    <tr>\n",
       "      <th>5108</th>\n",
       "      <td>1</td>\n",
       "      <td>51.0</td>\n",
       "      <td>0</td>\n",
       "      <td>0</td>\n",
       "      <td>1</td>\n",
       "      <td>2</td>\n",
       "      <td>0</td>\n",
       "      <td>166.29</td>\n",
       "      <td>1</td>\n",
       "      <td>0</td>\n",
       "    </tr>\n",
       "    <tr>\n",
       "      <th>5109</th>\n",
       "      <td>0</td>\n",
       "      <td>44.0</td>\n",
       "      <td>0</td>\n",
       "      <td>0</td>\n",
       "      <td>1</td>\n",
       "      <td>0</td>\n",
       "      <td>1</td>\n",
       "      <td>85.28</td>\n",
       "      <td>0</td>\n",
       "      <td>0</td>\n",
       "    </tr>\n",
       "  </tbody>\n",
       "</table>\n",
       "<p>5110 rows × 10 columns</p>\n",
       "</div>"
      ],
      "text/plain": [
       "      gender   age  hypertension  heart_disease  ever_married  work_type  \\\n",
       "0          1  67.0             0              1             1          2   \n",
       "1          0  61.0             0              0             1          3   \n",
       "2          1  80.0             0              1             1          2   \n",
       "3          0  49.0             0              0             1          2   \n",
       "4          0  79.0             1              0             1          3   \n",
       "...      ...   ...           ...            ...           ...        ...   \n",
       "5105       0  80.0             1              0             1          2   \n",
       "5106       0  81.0             0              0             1          3   \n",
       "5107       0  35.0             0              0             1          3   \n",
       "5108       1  51.0             0              0             1          2   \n",
       "5109       0  44.0             0              0             1          0   \n",
       "\n",
       "      Residence_type  avg_glucose_level  smoking_status  stroke  \n",
       "0                  1             228.69               1       1  \n",
       "1                  0             202.21               2       1  \n",
       "2                  0             105.92               2       1  \n",
       "3                  1             171.23               3       1  \n",
       "4                  0             174.12               2       1  \n",
       "...              ...                ...             ...     ...  \n",
       "5105               1              83.75               2       0  \n",
       "5106               1             125.20               2       0  \n",
       "5107               0              82.99               2       0  \n",
       "5108               0             166.29               1       0  \n",
       "5109               1              85.28               0       0  \n",
       "\n",
       "[5110 rows x 10 columns]"
      ]
     },
     "execution_count": 36,
     "metadata": {},
     "output_type": "execute_result"
    }
   ],
   "source": [
    "df"
   ]
  },
  {
   "cell_type": "markdown",
   "metadata": {
    "id": "6CUTf8eCHi-s"
   },
   "source": [
    "## **Normalize data:** Make data bell shaped, expresed in std dev of each own mean, and independient of units, easy to work with."
   ]
  },
  {
   "cell_type": "code",
   "execution_count": 37,
   "metadata": {
    "id": "SqPVPbmzNODV"
   },
   "outputs": [],
   "source": [
    "std = StandardScaler()"
   ]
  },
  {
   "cell_type": "code",
   "execution_count": 38,
   "metadata": {
    "id": "yjZeTTy3OE42"
   },
   "outputs": [],
   "source": [
    "df_std = std.fit_transform(df)"
   ]
  },
  {
   "cell_type": "code",
   "execution_count": 39,
   "metadata": {
    "colab": {
     "base_uri": "https://localhost:8080/"
    },
    "id": "DBD6Mlq0Oqqn",
    "outputId": "dab7a74a-ce57-412d-cfc0-bb3687692eaf"
   },
   "outputs": [
    {
     "data": {
      "text/plain": [
       "array([[ 1.18807255,  1.05143428, -0.32860186, ...,  2.70637544,\n",
       "        -0.35178071,  4.41838074],\n",
       "       [-0.840344  ,  0.78607007, -0.32860186, ...,  2.12155854,\n",
       "         0.58155233,  4.41838074],\n",
       "       [ 1.18807255,  1.62639008, -0.32860186, ..., -0.0050283 ,\n",
       "         0.58155233,  4.41838074],\n",
       "       ...,\n",
       "       [-0.840344  , -0.36384151, -0.32860186, ..., -0.51144264,\n",
       "         0.58155233, -0.22632726],\n",
       "       [ 1.18807255,  0.34379639, -0.32860186, ...,  1.32825706,\n",
       "        -0.35178071, -0.22632726],\n",
       "       [-0.840344  ,  0.03420481, -0.32860186, ..., -0.46086746,\n",
       "        -1.28511375, -0.22632726]])"
      ]
     },
     "execution_count": 39,
     "metadata": {},
     "output_type": "execute_result"
    }
   ],
   "source": [
    "df_std"
   ]
  },
  {
   "cell_type": "markdown",
   "metadata": {
    "id": "dvu1-WJQ5YXw"
   },
   "source": [
    "## **Discusion**\n",
    "The data is ready for the next step, modelling. \n",
    "Throughout the EDA 2 variables were dropped, one identified each data, and the other was poorly correlated with the target. In the following steps likely, we will use logistic regression with 9 statistical features for one target. \n",
    "the most essential features, like glucose, hypertension and heart disease, are imbalanced, as well as the target. We likely will use data augmenting to fill data and make the model more accurate.  (78 words)\n",
    "\n"
   ]
  },
  {
   "cell_type": "markdown",
   "metadata": {},
   "source": [
    "# Assignment 2 Final   (Deliverable starts here)"
   ]
  },
  {
   "cell_type": "markdown",
   "metadata": {},
   "source": [
    "### Support Vector Machine:\n",
    "#### •\tDevelop a support vector machine (SVM) using the sci-kit learn module.\n",
    "#### •\tIf you have a multiclass classification problem, you will need to use either the one vs. one or one vs. rest method involving multiple SVMs. Try both and explain what these options mean.\n",
    "\n",
    "\n"
   ]
  },
  {
   "cell_type": "code",
   "execution_count": 57,
   "metadata": {},
   "outputs": [],
   "source": [
    "# Bin the 'stroke' column into two categories: 0 (no stroke) and 1 (has stroke)\n",
    "df['stroke'] = pd.cut(df['stroke'], bins=[-1, 0, 1], labels=[0, 1])\n",
    "\n",
    "# Separate the features and labels\n",
    "X = df.drop('stroke', axis=1)  # X = Feaures\n",
    "y = df['stroke'] "
   ]
  },
  {
   "cell_type": "code",
   "execution_count": 58,
   "metadata": {},
   "outputs": [],
   "source": [
    "# Split the data into training and test sets\n",
    "X_train, X_test, y_train, y_test = train_test_split(X, y, test_size=0.2, random_state=42)\n",
    "\n",
    "# Split the training set into training and validation sets\n",
    "X_test, X_val, y_test, y_val = train_test_split(X_test, y_test, test_size=0.5, random_state=42)\n",
    "              # y = Labels"
   ]
  },
  {
   "cell_type": "code",
   "execution_count": 134,
   "metadata": {},
   "outputs": [
    {
     "name": "stdout",
     "output_type": "stream",
     "text": [
      "X_train, Trainin Data Set shape:  (4088, 9)\n",
      "X_val, Validation data set shape :  (511, 9)\n",
      "X_test, Testing data set shape :  (511, 9)\n"
     ]
    }
   ],
   "source": [
    "print('X_train, Trainin Data Set shape: ', X_train.shape)\n",
    "print('X_val, Validation data set shape : ', X_val.shape)\n",
    "print('X_test, Testing data set shape : ', X_test.shape)"
   ]
  },
  {
   "cell_type": "code",
   "execution_count": 43,
   "metadata": {},
   "outputs": [
    {
     "name": "stdout",
     "output_type": "stream",
     "text": [
      "Accuracy:  93.93  %\n"
     ]
    }
   ],
   "source": [
    "# Instantiate the SVM classifier with chosen hyperparameters\n",
    "svm = SVC(kernel='rbf', C=1, gamma='scale')\n",
    "\n",
    "# Train the SVM classifier on the training data\n",
    "svm.fit(X_train, y_train)\n",
    "\n",
    "# Make predictions on the validation data set\n",
    "y_pred = svm.predict(X_val)\n",
    "\n",
    "# Evaluate the performance of the SVM using accuracy, precision, and recall scores\n",
    "print('Accuracy: ', round(accuracy_score(y_test, y_pred)*100, 2), ' %')"
   ]
  },
  {
   "cell_type": "code",
   "execution_count": 44,
   "metadata": {},
   "outputs": [
    {
     "name": "stdout",
     "output_type": "stream",
     "text": [
      "              precision    recall  f1-score   support\n",
      "\n",
      "           0       0.94      1.00      0.97       480\n",
      "           1       0.00      0.00      0.00        31\n",
      "\n",
      "    accuracy                           0.94       511\n",
      "   macro avg       0.47      0.50      0.48       511\n",
      "weighted avg       0.88      0.94      0.91       511\n",
      "\n"
     ]
    },
    {
     "name": "stderr",
     "output_type": "stream",
     "text": [
      "/home/ubuntu/venv/lib/python3.6/site-packages/sklearn/metrics/_classification.py:1248: UndefinedMetricWarning: Precision and F-score are ill-defined and being set to 0.0 in labels with no predicted samples. Use `zero_division` parameter to control this behavior.\n",
      "  _warn_prf(average, modifier, msg_start, len(result))\n",
      "/home/ubuntu/venv/lib/python3.6/site-packages/sklearn/metrics/_classification.py:1248: UndefinedMetricWarning: Precision and F-score are ill-defined and being set to 0.0 in labels with no predicted samples. Use `zero_division` parameter to control this behavior.\n",
      "  _warn_prf(average, modifier, msg_start, len(result))\n",
      "/home/ubuntu/venv/lib/python3.6/site-packages/sklearn/metrics/_classification.py:1248: UndefinedMetricWarning: Precision and F-score are ill-defined and being set to 0.0 in labels with no predicted samples. Use `zero_division` parameter to control this behavior.\n",
      "  _warn_prf(average, modifier, msg_start, len(result))\n"
     ]
    }
   ],
   "source": [
    "# print classification report and compare with previous results in validation set\n",
    "print(classification_report(y_val, y_pred))\n"
   ]
  },
  {
   "cell_type": "markdown",
   "metadata": {},
   "source": [
    "#### •\tExperiment with at least three different values of the C parameter. Explain what this parameter controls. "
   ]
  },
  {
   "cell_type": "markdown",
   "metadata": {},
   "source": [
    "The C parameter in SVM is a regularization parameter that controls the trade-off between achieving a low training error and a low testing error. It determines the degree of misclassification errors that the model is willing to tolerate during the training process.\n",
    "\n",
    "When C is small, the SVM model will allow more misclassifications in the training set, which can lead to a larger margin and more generalizable models with less overfitting. A small value of C also leads to a more stable solution and can be useful when dealing with noisy or overlapping data. However, setting C too small can result in a model that underfits the training data and has poor performance on the testing data.\n",
    "\n",
    "On the other hand, when C is large, the SVM model will aim to correctly classify as many training examples as possible, which can lead to a smaller margin and more complex models with higher overfitting. A large value of C can be useful when dealing with linearly separable data or when there is a high degree of noise in the data. However, setting C too large can result in a model that overfits the training data and has poor generalization performance."
   ]
  },
  {
   "cell_type": "markdown",
   "metadata": {},
   "source": [
    "#### •\tTry the linear, rbf (with different choices of gamma) and polynomial kernels. Comment on which of these works best for your data and why.\n",
    "#### •\tFor each model:\n",
    "#### i.\tFind predictions using the validation set.\n",
    "#### ii.\tUse the score() function to display the training/validation accuracy (for classification) or coefficient of determination (for regression).\n"
   ]
  },
  {
   "cell_type": "markdown",
   "metadata": {},
   "source": [
    "I trained three sets of parameters to build several models for my task. First, I created 96 models by selecting 7 values for C, 7 values for gamma, and 2 values for class_weight. For each model, I evaluated the mean accuracy and the accuracy for training, validation, and testing datasets.\n",
    "\n",
    "Next, I created a new grid using 2 values for C, 2 values for gamma, 3 values for kernel, and 2 degrees. Then, I manually created another grid using loops with 7 values for C, 7 values for gamma, and 2 values for class_weight.\n",
    "\n",
    "Despite their similarities in results, all models showed a high accuracy in predicting true negatives but a low accuracy in predicting true positives.\n",
    "\n",
    "I am not satisfied with the results\n"
   ]
  },
  {
   "cell_type": "code",
   "execution_count": 45,
   "metadata": {},
   "outputs": [
    {
     "name": "stdout",
     "output_type": "stream",
     "text": [
      "Fitting 5 folds for each of 98 candidates, totalling 490 fits\n"
     ]
    },
    {
     "name": "stderr",
     "output_type": "stream",
     "text": [
      "/home/ubuntu/venv/lib/python3.6/site-packages/sklearn/model_selection/_search.py:925: UserWarning: One or more of the test scores are non-finite: [0.70035612 0.7199271  0.75588488 0.87231448 0.95425658 0.95425658\n",
      " 0.95425658        nan        nan        nan        nan        nan\n",
      "        nan        nan 0.7211481  0.736316   0.77055451 0.91193974\n",
      " 0.95401208 0.95425658 0.95425658        nan        nan        nan\n",
      "        nan        nan        nan        nan 0.72115049 0.75563709\n",
      " 0.83879899 0.93028732 0.95425658 0.95425658 0.95425658        nan\n",
      "        nan        nan        nan        nan        nan        nan\n",
      " 0.7201719  0.77251558 0.89090417 0.92857523 0.95425658 0.95425658\n",
      " 0.95425658        nan        nan        nan        nan        nan\n",
      "        nan        nan 0.73191293 0.81140555 0.90704797 0.92857523\n",
      " 0.95425658 0.95425658 0.95425658        nan        nan        nan\n",
      "        nan        nan        nan        nan 0.73973749 0.83537601\n",
      " 0.91022825 0.92857523 0.95425658 0.95425658 0.95425658        nan\n",
      "        nan        nan        nan        nan        nan        nan\n",
      " 0.76370734 0.8698671  0.90778206 0.92857523 0.95425658 0.95425658\n",
      " 0.95425658        nan        nan        nan        nan        nan\n",
      "        nan        nan]\n",
      "  category=UserWarning\n"
     ]
    },
    {
     "data": {
      "text/plain": [
       "{'C': 0.1, 'class_weight': 'balanced', 'gamma': 1}"
      ]
     },
     "execution_count": 45,
     "metadata": {},
     "output_type": "execute_result"
    }
   ],
   "source": [
    "# create a dictionary of SVM parameters to try\n",
    "param_grid = {\n",
    "            'C': [0.1, 1, 10, 100, 1000, 10000, 100000],\n",
    "            'gamma': [0.0001, 0.001, 0.01, 0.1, 1, 10, 100],\n",
    "            'class_weight': ['balanced', 'None']\n",
    "                }\n",
    " \n",
    "# use a grid search to find the parameters for best results\n",
    "from sklearn.model_selection import GridSearchCV\n",
    "grid = GridSearchCV(SVC(), param_grid, refit=True, verbose=3, n_jobs=-1)\n",
    "\n",
    "# fit the data again using the grid model\n",
    "grid.fit(X_train, y_train)\n",
    "\n",
    "# show which parameters gave the best results\n",
    "grid.best_params_\n"
   ]
  },
  {
   "cell_type": "code",
   "execution_count": 48,
   "metadata": {},
   "outputs": [
    {
     "name": "stdout",
     "output_type": "stream",
     "text": [
      "              precision    recall  f1-score   support\n",
      "\n",
      "           0       0.94      1.00      0.97       480\n",
      "           1       0.00      0.00      0.00        31\n",
      "\n",
      "    accuracy                           0.94       511\n",
      "   macro avg       0.47      0.50      0.48       511\n",
      "weighted avg       0.88      0.94      0.91       511\n",
      "\n"
     ]
    }
   ],
   "source": [
    "# generate predictions using the validation data and grid model\n",
    "grid_pred_val = grid.predict(X_val)\n",
    "# print classification report and compare with previous results\n",
    "print(classification_report(y_val, grid_pred_val))"
   ]
  },
  {
   "cell_type": "code",
   "execution_count": 50,
   "metadata": {},
   "outputs": [
    {
     "name": "stdout",
     "output_type": "stream",
     "text": [
      "Accuracy Best Model:  93.74  %\n"
     ]
    }
   ],
   "source": [
    "# Evaluate the performance of the SVM using accuracy, precision, and recall scores\n",
    "print('Accuracy Best Model: ', round(accuracy_score(y_val, grid_pred_val)*100, 2), ' %')"
   ]
  },
  {
   "cell_type": "code",
   "execution_count": 51,
   "metadata": {},
   "outputs": [
    {
     "name": "stdout",
     "output_type": "stream",
     "text": [
      "Fitting 5 folds for each of 24 candidates, totalling 120 fits\n"
     ]
    },
    {
     "data": {
      "text/plain": [
       "{'C': 0.1, 'degree': 2, 'gamma': 0.001, 'kernel': 'linear'}"
      ]
     },
     "execution_count": 51,
     "metadata": {},
     "output_type": "execute_result"
    }
   ],
   "source": [
    "param_grid = {\"C\": [0.1, 1],\n",
    "              \"gamma\": [0.001, 0.0001],\n",
    "              \"kernel\": [\"linear\", \"rbf\", \"poly\"],\n",
    "              \"degree\": [2, 3] # Only used for poly kernel\n",
    "             }\n",
    "\t\t\t  \n",
    "# use a grid search to find the parameters for best results\n",
    "from sklearn.model_selection import GridSearchCV\n",
    "grid = GridSearchCV(SVC(), param_grid, refit=True, verbose=3, n_jobs=-1)\n",
    "\n",
    "# fit the data again using the grid model\n",
    "grid.fit(X_train, y_train)\n",
    "\n",
    "# show which parameters gave the best results\n",
    "grid.best_params_"
   ]
  },
  {
   "cell_type": "code",
   "execution_count": 52,
   "metadata": {},
   "outputs": [
    {
     "name": "stdout",
     "output_type": "stream",
     "text": [
      "              precision    recall  f1-score   support\n",
      "\n",
      "           0       0.94      1.00      0.97       480\n",
      "           1       0.00      0.00      0.00        31\n",
      "\n",
      "    accuracy                           0.94       511\n",
      "   macro avg       0.47      0.50      0.48       511\n",
      "weighted avg       0.88      0.94      0.91       511\n",
      "\n"
     ]
    },
    {
     "name": "stderr",
     "output_type": "stream",
     "text": [
      "/home/ubuntu/venv/lib/python3.6/site-packages/sklearn/metrics/_classification.py:1248: UndefinedMetricWarning: Precision and F-score are ill-defined and being set to 0.0 in labels with no predicted samples. Use `zero_division` parameter to control this behavior.\n",
      "  _warn_prf(average, modifier, msg_start, len(result))\n",
      "/home/ubuntu/venv/lib/python3.6/site-packages/sklearn/metrics/_classification.py:1248: UndefinedMetricWarning: Precision and F-score are ill-defined and being set to 0.0 in labels with no predicted samples. Use `zero_division` parameter to control this behavior.\n",
      "  _warn_prf(average, modifier, msg_start, len(result))\n",
      "/home/ubuntu/venv/lib/python3.6/site-packages/sklearn/metrics/_classification.py:1248: UndefinedMetricWarning: Precision and F-score are ill-defined and being set to 0.0 in labels with no predicted samples. Use `zero_division` parameter to control this behavior.\n",
      "  _warn_prf(average, modifier, msg_start, len(result))\n"
     ]
    }
   ],
   "source": [
    "# generate predictions using the validation data and grid model\n",
    "grid_pred_val = grid.predict(X_val)\n",
    "# print classification report and compare with previous results\n",
    "print(classification_report(y_val, grid_pred_val))"
   ]
  },
  {
   "cell_type": "code",
   "execution_count": 53,
   "metadata": {},
   "outputs": [
    {
     "name": "stdout",
     "output_type": "stream",
     "text": [
      "Accuracy Best Model:  93.93  %\n"
     ]
    }
   ],
   "source": [
    "# Evaluate the performance of the SVM using accuracy, precision, and recall scores\n",
    "print('Accuracy Best Model: ', round(accuracy_score(y_val, grid_pred_val)*100, 2), ' %')"
   ]
  },
  {
   "cell_type": "code",
   "execution_count": 63,
   "metadata": {},
   "outputs": [],
   "source": [
    "def compute_accuracy(X_train, y_train, X_val, y_val, X_test, y_test, clf, param_grid):\n",
    "    results = []\n",
    "    for C in param_grid['C']:\n",
    "        for gamma in param_grid['gamma']:\n",
    "            for class_weight in param_grid['class_weight']:\n",
    "                clf.set_params(C=C, gamma=gamma, class_weight=class_weight)\n",
    "                clf.fit(X_train, y_train)\n",
    "                y_val_pred = clf.predict(X_val)\n",
    "                train_accuracy = clf.score(X_train, y_train)\n",
    "                val_accuracy = clf.score(X_val, y_val)\n",
    "                test_accuracy = clf.score(X_test, y_test)\n",
    "                tn, fp, fn, tp = confusion_matrix(y_val, y_val_pred).ravel()\n",
    "                results.append({'C': C,\n",
    "                                'gamma': gamma,\n",
    "                                'class_weight': class_weight,\n",
    "                                'train_accuracy %': round(train_accuracy*100, 2),\n",
    "                                'val_accuracy %': round(val_accuracy*100, 2),\n",
    "                                'test_accuracy %': round(test_accuracy*100, 2),\n",
    "                                'tn': tn,\n",
    "                                'fp': fp,\n",
    "                                'fn': fn,\n",
    "                                'tp': tp,\n",
    "                                'precision': tp / (tp + fp),\n",
    "                                'recall': tp / (tp + fn),\n",
    "                                'f1_score': 2 * ((tp / (tp + fp)) * (tp / (tp + fn))) / ((tp / (tp + fp)) + (tp / (tp + fn))),\n",
    "                                'specificity': tn / (tn + fp)\n",
    "                               })\n",
    "    return pd.DataFrame(results)\n",
    "\n"
   ]
  },
  {
   "cell_type": "code",
   "execution_count": 66,
   "metadata": {},
   "outputs": [],
   "source": [
    "# Define the hyperparameter grid\n",
    "param_grid = {\n",
    "    'C': [0.1, 1, 10, 100, 1000, 10000, 100000],\n",
    "    'gamma': [0.0001, 0.001, 0.01, 0.1, 1, 10, 100],\n",
    "    'class_weight': ['balanced', None]\n",
    "}"
   ]
  },
  {
   "cell_type": "code",
   "execution_count": 67,
   "metadata": {},
   "outputs": [
    {
     "name": "stderr",
     "output_type": "stream",
     "text": [
      "/home/ubuntu/venv/lib/python3.6/site-packages/ipykernel_launcher.py:23: RuntimeWarning: invalid value encountered in long_scalars\n",
      "/home/ubuntu/venv/lib/python3.6/site-packages/ipykernel_launcher.py:25: RuntimeWarning: invalid value encountered in long_scalars\n",
      "/home/ubuntu/venv/lib/python3.6/site-packages/ipykernel_launcher.py:23: RuntimeWarning: invalid value encountered in long_scalars\n",
      "/home/ubuntu/venv/lib/python3.6/site-packages/ipykernel_launcher.py:25: RuntimeWarning: invalid value encountered in long_scalars\n",
      "/home/ubuntu/venv/lib/python3.6/site-packages/ipykernel_launcher.py:23: RuntimeWarning: invalid value encountered in long_scalars\n",
      "/home/ubuntu/venv/lib/python3.6/site-packages/ipykernel_launcher.py:25: RuntimeWarning: invalid value encountered in long_scalars\n",
      "/home/ubuntu/venv/lib/python3.6/site-packages/ipykernel_launcher.py:23: RuntimeWarning: invalid value encountered in long_scalars\n",
      "/home/ubuntu/venv/lib/python3.6/site-packages/ipykernel_launcher.py:25: RuntimeWarning: invalid value encountered in long_scalars\n",
      "/home/ubuntu/venv/lib/python3.6/site-packages/ipykernel_launcher.py:25: RuntimeWarning: invalid value encountered in double_scalars\n",
      "/home/ubuntu/venv/lib/python3.6/site-packages/ipykernel_launcher.py:23: RuntimeWarning: invalid value encountered in long_scalars\n",
      "/home/ubuntu/venv/lib/python3.6/site-packages/ipykernel_launcher.py:25: RuntimeWarning: invalid value encountered in long_scalars\n",
      "/home/ubuntu/venv/lib/python3.6/site-packages/ipykernel_launcher.py:23: RuntimeWarning: invalid value encountered in long_scalars\n",
      "/home/ubuntu/venv/lib/python3.6/site-packages/ipykernel_launcher.py:25: RuntimeWarning: invalid value encountered in long_scalars\n",
      "/home/ubuntu/venv/lib/python3.6/site-packages/ipykernel_launcher.py:23: RuntimeWarning: invalid value encountered in long_scalars\n",
      "/home/ubuntu/venv/lib/python3.6/site-packages/ipykernel_launcher.py:25: RuntimeWarning: invalid value encountered in long_scalars\n",
      "/home/ubuntu/venv/lib/python3.6/site-packages/ipykernel_launcher.py:23: RuntimeWarning: invalid value encountered in long_scalars\n",
      "/home/ubuntu/venv/lib/python3.6/site-packages/ipykernel_launcher.py:25: RuntimeWarning: invalid value encountered in long_scalars\n",
      "/home/ubuntu/venv/lib/python3.6/site-packages/ipykernel_launcher.py:23: RuntimeWarning: invalid value encountered in long_scalars\n",
      "/home/ubuntu/venv/lib/python3.6/site-packages/ipykernel_launcher.py:25: RuntimeWarning: invalid value encountered in long_scalars\n",
      "/home/ubuntu/venv/lib/python3.6/site-packages/ipykernel_launcher.py:23: RuntimeWarning: invalid value encountered in long_scalars\n",
      "/home/ubuntu/venv/lib/python3.6/site-packages/ipykernel_launcher.py:25: RuntimeWarning: invalid value encountered in long_scalars\n",
      "/home/ubuntu/venv/lib/python3.6/site-packages/ipykernel_launcher.py:23: RuntimeWarning: invalid value encountered in long_scalars\n",
      "/home/ubuntu/venv/lib/python3.6/site-packages/ipykernel_launcher.py:25: RuntimeWarning: invalid value encountered in long_scalars\n",
      "/home/ubuntu/venv/lib/python3.6/site-packages/ipykernel_launcher.py:23: RuntimeWarning: invalid value encountered in long_scalars\n",
      "/home/ubuntu/venv/lib/python3.6/site-packages/ipykernel_launcher.py:25: RuntimeWarning: invalid value encountered in long_scalars\n",
      "/home/ubuntu/venv/lib/python3.6/site-packages/ipykernel_launcher.py:23: RuntimeWarning: invalid value encountered in long_scalars\n",
      "/home/ubuntu/venv/lib/python3.6/site-packages/ipykernel_launcher.py:25: RuntimeWarning: invalid value encountered in long_scalars\n",
      "/home/ubuntu/venv/lib/python3.6/site-packages/ipykernel_launcher.py:23: RuntimeWarning: invalid value encountered in long_scalars\n",
      "/home/ubuntu/venv/lib/python3.6/site-packages/ipykernel_launcher.py:25: RuntimeWarning: invalid value encountered in long_scalars\n",
      "/home/ubuntu/venv/lib/python3.6/site-packages/ipykernel_launcher.py:23: RuntimeWarning: invalid value encountered in long_scalars\n",
      "/home/ubuntu/venv/lib/python3.6/site-packages/ipykernel_launcher.py:25: RuntimeWarning: invalid value encountered in long_scalars\n",
      "/home/ubuntu/venv/lib/python3.6/site-packages/ipykernel_launcher.py:23: RuntimeWarning: invalid value encountered in long_scalars\n",
      "/home/ubuntu/venv/lib/python3.6/site-packages/ipykernel_launcher.py:25: RuntimeWarning: invalid value encountered in long_scalars\n",
      "/home/ubuntu/venv/lib/python3.6/site-packages/ipykernel_launcher.py:23: RuntimeWarning: invalid value encountered in long_scalars\n",
      "/home/ubuntu/venv/lib/python3.6/site-packages/ipykernel_launcher.py:25: RuntimeWarning: invalid value encountered in long_scalars\n",
      "/home/ubuntu/venv/lib/python3.6/site-packages/ipykernel_launcher.py:23: RuntimeWarning: invalid value encountered in long_scalars\n",
      "/home/ubuntu/venv/lib/python3.6/site-packages/ipykernel_launcher.py:25: RuntimeWarning: invalid value encountered in long_scalars\n",
      "/home/ubuntu/venv/lib/python3.6/site-packages/ipykernel_launcher.py:23: RuntimeWarning: invalid value encountered in long_scalars\n",
      "/home/ubuntu/venv/lib/python3.6/site-packages/ipykernel_launcher.py:25: RuntimeWarning: invalid value encountered in long_scalars\n",
      "/home/ubuntu/venv/lib/python3.6/site-packages/ipykernel_launcher.py:23: RuntimeWarning: invalid value encountered in long_scalars\n",
      "/home/ubuntu/venv/lib/python3.6/site-packages/ipykernel_launcher.py:25: RuntimeWarning: invalid value encountered in long_scalars\n",
      "/home/ubuntu/venv/lib/python3.6/site-packages/ipykernel_launcher.py:23: RuntimeWarning: invalid value encountered in long_scalars\n",
      "/home/ubuntu/venv/lib/python3.6/site-packages/ipykernel_launcher.py:25: RuntimeWarning: invalid value encountered in long_scalars\n",
      "/home/ubuntu/venv/lib/python3.6/site-packages/ipykernel_launcher.py:23: RuntimeWarning: invalid value encountered in long_scalars\n",
      "/home/ubuntu/venv/lib/python3.6/site-packages/ipykernel_launcher.py:25: RuntimeWarning: invalid value encountered in long_scalars\n",
      "/home/ubuntu/venv/lib/python3.6/site-packages/ipykernel_launcher.py:23: RuntimeWarning: invalid value encountered in long_scalars\n",
      "/home/ubuntu/venv/lib/python3.6/site-packages/ipykernel_launcher.py:25: RuntimeWarning: invalid value encountered in long_scalars\n",
      "/home/ubuntu/venv/lib/python3.6/site-packages/ipykernel_launcher.py:23: RuntimeWarning: invalid value encountered in long_scalars\n",
      "/home/ubuntu/venv/lib/python3.6/site-packages/ipykernel_launcher.py:25: RuntimeWarning: invalid value encountered in long_scalars\n",
      "/home/ubuntu/venv/lib/python3.6/site-packages/ipykernel_launcher.py:23: RuntimeWarning: invalid value encountered in long_scalars\n",
      "/home/ubuntu/venv/lib/python3.6/site-packages/ipykernel_launcher.py:25: RuntimeWarning: invalid value encountered in long_scalars\n",
      "/home/ubuntu/venv/lib/python3.6/site-packages/ipykernel_launcher.py:23: RuntimeWarning: invalid value encountered in long_scalars\n",
      "/home/ubuntu/venv/lib/python3.6/site-packages/ipykernel_launcher.py:25: RuntimeWarning: invalid value encountered in long_scalars\n",
      "/home/ubuntu/venv/lib/python3.6/site-packages/ipykernel_launcher.py:23: RuntimeWarning: invalid value encountered in long_scalars\n",
      "/home/ubuntu/venv/lib/python3.6/site-packages/ipykernel_launcher.py:25: RuntimeWarning: invalid value encountered in long_scalars\n",
      "/home/ubuntu/venv/lib/python3.6/site-packages/ipykernel_launcher.py:23: RuntimeWarning: invalid value encountered in long_scalars\n",
      "/home/ubuntu/venv/lib/python3.6/site-packages/ipykernel_launcher.py:25: RuntimeWarning: invalid value encountered in long_scalars\n",
      "/home/ubuntu/venv/lib/python3.6/site-packages/ipykernel_launcher.py:23: RuntimeWarning: invalid value encountered in long_scalars\n",
      "/home/ubuntu/venv/lib/python3.6/site-packages/ipykernel_launcher.py:25: RuntimeWarning: invalid value encountered in long_scalars\n",
      "/home/ubuntu/venv/lib/python3.6/site-packages/ipykernel_launcher.py:23: RuntimeWarning: invalid value encountered in long_scalars\n",
      "/home/ubuntu/venv/lib/python3.6/site-packages/ipykernel_launcher.py:25: RuntimeWarning: invalid value encountered in long_scalars\n",
      "/home/ubuntu/venv/lib/python3.6/site-packages/ipykernel_launcher.py:23: RuntimeWarning: invalid value encountered in long_scalars\n",
      "/home/ubuntu/venv/lib/python3.6/site-packages/ipykernel_launcher.py:25: RuntimeWarning: invalid value encountered in long_scalars\n",
      "/home/ubuntu/venv/lib/python3.6/site-packages/ipykernel_launcher.py:23: RuntimeWarning: invalid value encountered in long_scalars\n",
      "/home/ubuntu/venv/lib/python3.6/site-packages/ipykernel_launcher.py:25: RuntimeWarning: invalid value encountered in long_scalars\n",
      "/home/ubuntu/venv/lib/python3.6/site-packages/ipykernel_launcher.py:23: RuntimeWarning: invalid value encountered in long_scalars\n",
      "/home/ubuntu/venv/lib/python3.6/site-packages/ipykernel_launcher.py:25: RuntimeWarning: invalid value encountered in long_scalars\n",
      "/home/ubuntu/venv/lib/python3.6/site-packages/ipykernel_launcher.py:23: RuntimeWarning: invalid value encountered in long_scalars\n",
      "/home/ubuntu/venv/lib/python3.6/site-packages/ipykernel_launcher.py:25: RuntimeWarning: invalid value encountered in long_scalars\n",
      "/home/ubuntu/venv/lib/python3.6/site-packages/ipykernel_launcher.py:23: RuntimeWarning: invalid value encountered in long_scalars\n",
      "/home/ubuntu/venv/lib/python3.6/site-packages/ipykernel_launcher.py:25: RuntimeWarning: invalid value encountered in long_scalars\n",
      "/home/ubuntu/venv/lib/python3.6/site-packages/ipykernel_launcher.py:23: RuntimeWarning: invalid value encountered in long_scalars\n",
      "/home/ubuntu/venv/lib/python3.6/site-packages/ipykernel_launcher.py:25: RuntimeWarning: invalid value encountered in long_scalars\n",
      "/home/ubuntu/venv/lib/python3.6/site-packages/ipykernel_launcher.py:23: RuntimeWarning: invalid value encountered in long_scalars\n",
      "/home/ubuntu/venv/lib/python3.6/site-packages/ipykernel_launcher.py:25: RuntimeWarning: invalid value encountered in long_scalars\n",
      "/home/ubuntu/venv/lib/python3.6/site-packages/ipykernel_launcher.py:23: RuntimeWarning: invalid value encountered in long_scalars\n",
      "/home/ubuntu/venv/lib/python3.6/site-packages/ipykernel_launcher.py:25: RuntimeWarning: invalid value encountered in long_scalars\n",
      "/home/ubuntu/venv/lib/python3.6/site-packages/ipykernel_launcher.py:23: RuntimeWarning: invalid value encountered in long_scalars\n",
      "/home/ubuntu/venv/lib/python3.6/site-packages/ipykernel_launcher.py:25: RuntimeWarning: invalid value encountered in long_scalars\n",
      "/home/ubuntu/venv/lib/python3.6/site-packages/ipykernel_launcher.py:23: RuntimeWarning: invalid value encountered in long_scalars\n",
      "/home/ubuntu/venv/lib/python3.6/site-packages/ipykernel_launcher.py:25: RuntimeWarning: invalid value encountered in long_scalars\n",
      "/home/ubuntu/venv/lib/python3.6/site-packages/ipykernel_launcher.py:23: RuntimeWarning: invalid value encountered in long_scalars\n",
      "/home/ubuntu/venv/lib/python3.6/site-packages/ipykernel_launcher.py:25: RuntimeWarning: invalid value encountered in long_scalars\n",
      "/home/ubuntu/venv/lib/python3.6/site-packages/ipykernel_launcher.py:23: RuntimeWarning: invalid value encountered in long_scalars\n",
      "/home/ubuntu/venv/lib/python3.6/site-packages/ipykernel_launcher.py:25: RuntimeWarning: invalid value encountered in long_scalars\n",
      "/home/ubuntu/venv/lib/python3.6/site-packages/ipykernel_launcher.py:23: RuntimeWarning: invalid value encountered in long_scalars\n",
      "/home/ubuntu/venv/lib/python3.6/site-packages/ipykernel_launcher.py:25: RuntimeWarning: invalid value encountered in long_scalars\n",
      "/home/ubuntu/venv/lib/python3.6/site-packages/ipykernel_launcher.py:23: RuntimeWarning: invalid value encountered in long_scalars\n",
      "/home/ubuntu/venv/lib/python3.6/site-packages/ipykernel_launcher.py:25: RuntimeWarning: invalid value encountered in long_scalars\n",
      "/home/ubuntu/venv/lib/python3.6/site-packages/ipykernel_launcher.py:23: RuntimeWarning: invalid value encountered in long_scalars\n",
      "/home/ubuntu/venv/lib/python3.6/site-packages/ipykernel_launcher.py:25: RuntimeWarning: invalid value encountered in long_scalars\n",
      "/home/ubuntu/venv/lib/python3.6/site-packages/ipykernel_launcher.py:23: RuntimeWarning: invalid value encountered in long_scalars\n",
      "/home/ubuntu/venv/lib/python3.6/site-packages/ipykernel_launcher.py:25: RuntimeWarning: invalid value encountered in long_scalars\n",
      "/home/ubuntu/venv/lib/python3.6/site-packages/ipykernel_launcher.py:23: RuntimeWarning: invalid value encountered in long_scalars\n",
      "/home/ubuntu/venv/lib/python3.6/site-packages/ipykernel_launcher.py:25: RuntimeWarning: invalid value encountered in long_scalars\n",
      "/home/ubuntu/venv/lib/python3.6/site-packages/ipykernel_launcher.py:23: RuntimeWarning: invalid value encountered in long_scalars\n",
      "/home/ubuntu/venv/lib/python3.6/site-packages/ipykernel_launcher.py:25: RuntimeWarning: invalid value encountered in long_scalars\n",
      "/home/ubuntu/venv/lib/python3.6/site-packages/ipykernel_launcher.py:23: RuntimeWarning: invalid value encountered in long_scalars\n",
      "/home/ubuntu/venv/lib/python3.6/site-packages/ipykernel_launcher.py:25: RuntimeWarning: invalid value encountered in long_scalars\n",
      "/home/ubuntu/venv/lib/python3.6/site-packages/ipykernel_launcher.py:23: RuntimeWarning: invalid value encountered in long_scalars\n",
      "/home/ubuntu/venv/lib/python3.6/site-packages/ipykernel_launcher.py:25: RuntimeWarning: invalid value encountered in long_scalars\n",
      "/home/ubuntu/venv/lib/python3.6/site-packages/ipykernel_launcher.py:23: RuntimeWarning: invalid value encountered in long_scalars\n",
      "/home/ubuntu/venv/lib/python3.6/site-packages/ipykernel_launcher.py:25: RuntimeWarning: invalid value encountered in long_scalars\n",
      "/home/ubuntu/venv/lib/python3.6/site-packages/ipykernel_launcher.py:23: RuntimeWarning: invalid value encountered in long_scalars\n",
      "/home/ubuntu/venv/lib/python3.6/site-packages/ipykernel_launcher.py:25: RuntimeWarning: invalid value encountered in long_scalars\n",
      "/home/ubuntu/venv/lib/python3.6/site-packages/ipykernel_launcher.py:23: RuntimeWarning: invalid value encountered in long_scalars\n",
      "/home/ubuntu/venv/lib/python3.6/site-packages/ipykernel_launcher.py:25: RuntimeWarning: invalid value encountered in long_scalars\n",
      "/home/ubuntu/venv/lib/python3.6/site-packages/ipykernel_launcher.py:23: RuntimeWarning: invalid value encountered in long_scalars\n",
      "/home/ubuntu/venv/lib/python3.6/site-packages/ipykernel_launcher.py:25: RuntimeWarning: invalid value encountered in long_scalars\n",
      "/home/ubuntu/venv/lib/python3.6/site-packages/ipykernel_launcher.py:23: RuntimeWarning: invalid value encountered in long_scalars\n",
      "/home/ubuntu/venv/lib/python3.6/site-packages/ipykernel_launcher.py:25: RuntimeWarning: invalid value encountered in long_scalars\n",
      "/home/ubuntu/venv/lib/python3.6/site-packages/ipykernel_launcher.py:23: RuntimeWarning: invalid value encountered in long_scalars\n",
      "/home/ubuntu/venv/lib/python3.6/site-packages/ipykernel_launcher.py:25: RuntimeWarning: invalid value encountered in long_scalars\n",
      "/home/ubuntu/venv/lib/python3.6/site-packages/ipykernel_launcher.py:23: RuntimeWarning: invalid value encountered in long_scalars\n",
      "/home/ubuntu/venv/lib/python3.6/site-packages/ipykernel_launcher.py:25: RuntimeWarning: invalid value encountered in long_scalars\n",
      "/home/ubuntu/venv/lib/python3.6/site-packages/ipykernel_launcher.py:23: RuntimeWarning: invalid value encountered in long_scalars\n",
      "/home/ubuntu/venv/lib/python3.6/site-packages/ipykernel_launcher.py:25: RuntimeWarning: invalid value encountered in long_scalars\n"
     ]
    }
   ],
   "source": [
    "\n",
    "# Create the SVM classifier object\n",
    "svm = SVC()\n",
    "\n",
    "# Compute accuracy for each combination of hyperparameters\n",
    "results = compute_accuracy(X_train, y_train, X_val, y_val, X_test, y_test, svm, param_grid)"
   ]
  },
  {
   "cell_type": "code",
   "execution_count": 68,
   "metadata": {},
   "outputs": [
    {
     "data": {
      "text/html": [
       "<div>\n",
       "<style scoped>\n",
       "    .dataframe tbody tr th:only-of-type {\n",
       "        vertical-align: middle;\n",
       "    }\n",
       "\n",
       "    .dataframe tbody tr th {\n",
       "        vertical-align: top;\n",
       "    }\n",
       "\n",
       "    .dataframe thead th {\n",
       "        text-align: right;\n",
       "    }\n",
       "</style>\n",
       "<table border=\"1\" class=\"dataframe\">\n",
       "  <thead>\n",
       "    <tr style=\"text-align: right;\">\n",
       "      <th></th>\n",
       "      <th>C</th>\n",
       "      <th>gamma</th>\n",
       "      <th>class_weight</th>\n",
       "      <th>train Acc %</th>\n",
       "      <th>val Acc %</th>\n",
       "      <th>Test Acc %</th>\n",
       "      <th>tn</th>\n",
       "      <th>fp</th>\n",
       "      <th>fn</th>\n",
       "      <th>tp</th>\n",
       "      <th>precision</th>\n",
       "      <th>recall</th>\n",
       "      <th>f1_score</th>\n",
       "      <th>specificity</th>\n",
       "    </tr>\n",
       "  </thead>\n",
       "  <tbody>\n",
       "    <tr>\n",
       "      <th>73</th>\n",
       "      <td>10000.0</td>\n",
       "      <td>0.0010</td>\n",
       "      <td>NaN</td>\n",
       "      <td>96.11</td>\n",
       "      <td>93.93</td>\n",
       "      <td>92.95</td>\n",
       "      <td>479</td>\n",
       "      <td>1</td>\n",
       "      <td>30</td>\n",
       "      <td>1</td>\n",
       "      <td>0.500000</td>\n",
       "      <td>0.032258</td>\n",
       "      <td>0.060606</td>\n",
       "      <td>0.997917</td>\n",
       "    </tr>\n",
       "    <tr>\n",
       "      <th>1</th>\n",
       "      <td>0.1</td>\n",
       "      <td>0.0001</td>\n",
       "      <td>NaN</td>\n",
       "      <td>95.43</td>\n",
       "      <td>93.93</td>\n",
       "      <td>93.93</td>\n",
       "      <td>480</td>\n",
       "      <td>0</td>\n",
       "      <td>31</td>\n",
       "      <td>0</td>\n",
       "      <td>NaN</td>\n",
       "      <td>0.000000</td>\n",
       "      <td>NaN</td>\n",
       "      <td>1.000000</td>\n",
       "    </tr>\n",
       "    <tr>\n",
       "      <th>3</th>\n",
       "      <td>0.1</td>\n",
       "      <td>0.0010</td>\n",
       "      <td>NaN</td>\n",
       "      <td>95.43</td>\n",
       "      <td>93.93</td>\n",
       "      <td>93.93</td>\n",
       "      <td>480</td>\n",
       "      <td>0</td>\n",
       "      <td>31</td>\n",
       "      <td>0</td>\n",
       "      <td>NaN</td>\n",
       "      <td>0.000000</td>\n",
       "      <td>NaN</td>\n",
       "      <td>1.000000</td>\n",
       "    </tr>\n",
       "    <tr>\n",
       "      <th>5</th>\n",
       "      <td>0.1</td>\n",
       "      <td>0.0100</td>\n",
       "      <td>NaN</td>\n",
       "      <td>95.43</td>\n",
       "      <td>93.93</td>\n",
       "      <td>93.93</td>\n",
       "      <td>480</td>\n",
       "      <td>0</td>\n",
       "      <td>31</td>\n",
       "      <td>0</td>\n",
       "      <td>NaN</td>\n",
       "      <td>0.000000</td>\n",
       "      <td>NaN</td>\n",
       "      <td>1.000000</td>\n",
       "    </tr>\n",
       "    <tr>\n",
       "      <th>7</th>\n",
       "      <td>0.1</td>\n",
       "      <td>0.1000</td>\n",
       "      <td>NaN</td>\n",
       "      <td>95.43</td>\n",
       "      <td>93.93</td>\n",
       "      <td>93.93</td>\n",
       "      <td>480</td>\n",
       "      <td>0</td>\n",
       "      <td>31</td>\n",
       "      <td>0</td>\n",
       "      <td>NaN</td>\n",
       "      <td>0.000000</td>\n",
       "      <td>NaN</td>\n",
       "      <td>1.000000</td>\n",
       "    </tr>\n",
       "    <tr>\n",
       "      <th>...</th>\n",
       "      <td>...</td>\n",
       "      <td>...</td>\n",
       "      <td>...</td>\n",
       "      <td>...</td>\n",
       "      <td>...</td>\n",
       "      <td>...</td>\n",
       "      <td>...</td>\n",
       "      <td>...</td>\n",
       "      <td>...</td>\n",
       "      <td>...</td>\n",
       "      <td>...</td>\n",
       "      <td>...</td>\n",
       "      <td>...</td>\n",
       "      <td>...</td>\n",
       "    </tr>\n",
       "    <tr>\n",
       "      <th>2</th>\n",
       "      <td>0.1</td>\n",
       "      <td>0.0010</td>\n",
       "      <td>balanced</td>\n",
       "      <td>71.97</td>\n",
       "      <td>76.32</td>\n",
       "      <td>68.88</td>\n",
       "      <td>363</td>\n",
       "      <td>117</td>\n",
       "      <td>4</td>\n",
       "      <td>27</td>\n",
       "      <td>0.187500</td>\n",
       "      <td>0.870968</td>\n",
       "      <td>0.308571</td>\n",
       "      <td>0.756250</td>\n",
       "    </tr>\n",
       "    <tr>\n",
       "      <th>42</th>\n",
       "      <td>100.0</td>\n",
       "      <td>0.0001</td>\n",
       "      <td>balanced</td>\n",
       "      <td>71.89</td>\n",
       "      <td>75.93</td>\n",
       "      <td>70.06</td>\n",
       "      <td>361</td>\n",
       "      <td>119</td>\n",
       "      <td>4</td>\n",
       "      <td>27</td>\n",
       "      <td>0.184932</td>\n",
       "      <td>0.870968</td>\n",
       "      <td>0.305085</td>\n",
       "      <td>0.752083</td>\n",
       "    </tr>\n",
       "    <tr>\n",
       "      <th>0</th>\n",
       "      <td>0.1</td>\n",
       "      <td>0.0001</td>\n",
       "      <td>balanced</td>\n",
       "      <td>70.28</td>\n",
       "      <td>74.95</td>\n",
       "      <td>68.69</td>\n",
       "      <td>358</td>\n",
       "      <td>122</td>\n",
       "      <td>6</td>\n",
       "      <td>25</td>\n",
       "      <td>0.170068</td>\n",
       "      <td>0.806452</td>\n",
       "      <td>0.280899</td>\n",
       "      <td>0.745833</td>\n",
       "    </tr>\n",
       "    <tr>\n",
       "      <th>56</th>\n",
       "      <td>1000.0</td>\n",
       "      <td>0.0001</td>\n",
       "      <td>balanced</td>\n",
       "      <td>73.26</td>\n",
       "      <td>74.95</td>\n",
       "      <td>73.19</td>\n",
       "      <td>358</td>\n",
       "      <td>122</td>\n",
       "      <td>6</td>\n",
       "      <td>25</td>\n",
       "      <td>0.170068</td>\n",
       "      <td>0.806452</td>\n",
       "      <td>0.280899</td>\n",
       "      <td>0.745833</td>\n",
       "    </tr>\n",
       "    <tr>\n",
       "      <th>70</th>\n",
       "      <td>10000.0</td>\n",
       "      <td>0.0001</td>\n",
       "      <td>balanced</td>\n",
       "      <td>74.44</td>\n",
       "      <td>74.56</td>\n",
       "      <td>73.97</td>\n",
       "      <td>358</td>\n",
       "      <td>122</td>\n",
       "      <td>8</td>\n",
       "      <td>23</td>\n",
       "      <td>0.158621</td>\n",
       "      <td>0.741935</td>\n",
       "      <td>0.261364</td>\n",
       "      <td>0.745833</td>\n",
       "    </tr>\n",
       "  </tbody>\n",
       "</table>\n",
       "<p>98 rows × 14 columns</p>\n",
       "</div>"
      ],
      "text/plain": [
       "          C   gamma class_weight  train Acc %  val Acc %  Test Acc %   tn  \\\n",
       "73  10000.0  0.0010          NaN        96.11      93.93       92.95  479   \n",
       "1       0.1  0.0001          NaN        95.43      93.93       93.93  480   \n",
       "3       0.1  0.0010          NaN        95.43      93.93       93.93  480   \n",
       "5       0.1  0.0100          NaN        95.43      93.93       93.93  480   \n",
       "7       0.1  0.1000          NaN        95.43      93.93       93.93  480   \n",
       "..      ...     ...          ...          ...        ...         ...  ...   \n",
       "2       0.1  0.0010     balanced        71.97      76.32       68.88  363   \n",
       "42    100.0  0.0001     balanced        71.89      75.93       70.06  361   \n",
       "0       0.1  0.0001     balanced        70.28      74.95       68.69  358   \n",
       "56   1000.0  0.0001     balanced        73.26      74.95       73.19  358   \n",
       "70  10000.0  0.0001     balanced        74.44      74.56       73.97  358   \n",
       "\n",
       "     fp  fn  tp  precision    recall  f1_score  specificity  \n",
       "73    1  30   1   0.500000  0.032258  0.060606     0.997917  \n",
       "1     0  31   0        NaN  0.000000       NaN     1.000000  \n",
       "3     0  31   0        NaN  0.000000       NaN     1.000000  \n",
       "5     0  31   0        NaN  0.000000       NaN     1.000000  \n",
       "7     0  31   0        NaN  0.000000       NaN     1.000000  \n",
       "..  ...  ..  ..        ...       ...       ...          ...  \n",
       "2   117   4  27   0.187500  0.870968  0.308571     0.756250  \n",
       "42  119   4  27   0.184932  0.870968  0.305085     0.752083  \n",
       "0   122   6  25   0.170068  0.806452  0.280899     0.745833  \n",
       "56  122   6  25   0.170068  0.806452  0.280899     0.745833  \n",
       "70  122   8  23   0.158621  0.741935  0.261364     0.745833  \n",
       "\n",
       "[98 rows x 14 columns]"
      ]
     },
     "execution_count": 68,
     "metadata": {},
     "output_type": "execute_result"
    }
   ],
   "source": [
    "# Create a dataframe to store the results\n",
    "df_results = pd.DataFrame(columns=['C', 'gamma', 'class_weight', 'train Acc %', 'val Acc %', 'Test Acc %', 'tn', 'fp', 'fn', 'tp', 'precision', 'recall', 'f1_score', 'specificity'])\n",
    "\n",
    "# Add the results to the dataframe\n",
    "for _, row in results.iterrows():\n",
    "    df_results = df_results.append({'C': row['C'],\n",
    "                                    'gamma': row['gamma'],\n",
    "                                    'class_weight': row['class_weight'],\n",
    "                                    'train Acc %': row['train_accuracy %'],\n",
    "                                    'val Acc %': row['val_accuracy %'],\n",
    "                                    'Test Acc %': row['test_accuracy %'],\n",
    "                                    'tn': row['tn'],\n",
    "                                    'fp': row['fp'],\n",
    "                                    'fn': row['fn'],\n",
    "                                    'tp': row['tp'],\n",
    "                                    'precision': row['precision'],\n",
    "                                    'recall': row['recall'], \n",
    "                                    'f1_score': row['f1_score'],\n",
    "                                    'specificity': row['specificity']\n",
    "                                   }, ignore_index=True)\n",
    "\n",
    "df_results = df_results.sort_values(by=['val Acc %', 'precision'], ascending=False)\n",
    "\n",
    "    # Print the dataframe\n",
    "df_results"
   ]
  },
  {
   "cell_type": "code",
   "execution_count": 69,
   "metadata": {},
   "outputs": [
    {
     "name": "stdout",
     "output_type": "stream",
     "text": [
      "+----------+--------+--------------+-------------+-----------+------------+-----+-----+----+----+---------------------+---------------------+\n",
      "|    C     | gamma  | class_weight | train Acc % | val Acc % | Test Acc % |  tn |  fp | fn | tp |      precision      |        recall       |\n",
      "+----------+--------+--------------+-------------+-----------+------------+-----+-----+----+----+---------------------+---------------------+\n",
      "|   0.1    | 0.0001 |   balanced   |    70.28    |   74.95   |   68.69    | 358 | 122 | 6  | 25 | 0.17006802721088435 |  0.8064516129032258 |\n",
      "|   0.1    | 0.0001 |     None     |    95.43    |   93.93   |   93.93    | 480 |  0  | 31 | 0  |         nan         |         0.0         |\n",
      "|   0.1    | 0.001  |   balanced   |    71.97    |   76.32   |   68.88    | 363 | 117 | 4  | 27 |        0.1875       |  0.8709677419354839 |\n",
      "|   0.1    | 0.001  |     None     |    95.43    |   93.93   |   93.93    | 480 |  0  | 31 | 0  |         nan         |         0.0         |\n",
      "|   0.1    |  0.01  |   balanced   |    76.98    |   78.47   |   75.93    | 377 | 103 | 7  | 24 |  0.1889763779527559 |  0.7741935483870968 |\n",
      "|   0.1    |  0.01  |     None     |    95.43    |   93.93   |   93.93    | 480 |  0  | 31 | 0  |         nan         |         0.0         |\n",
      "|   0.1    |  0.1   |   balanced   |    89.43    |   85.32   |   87.48    | 424 |  56 | 19 | 12 | 0.17647058823529413 |  0.3870967741935484 |\n",
      "|   0.1    |  0.1   |     None     |    95.43    |   93.93   |   93.93    | 480 |  0  | 31 | 0  |         nan         |         0.0         |\n",
      "|   0.1    |  1.0   |   balanced   |    99.95    |   93.74   |   93.93    | 479 |  1  | 31 | 0  |         0.0         |         0.0         |\n",
      "|   0.1    |  1.0   |     None     |    95.43    |   93.93   |   93.93    | 480 |  0  | 31 | 0  |         nan         |         0.0         |\n",
      "|   0.1    |  10.0  |   balanced   |    100.0    |   93.93   |   93.93    | 480 |  0  | 31 | 0  |         nan         |         0.0         |\n",
      "|   0.1    |  10.0  |     None     |    95.43    |   93.93   |   93.93    | 480 |  0  | 31 | 0  |         nan         |         0.0         |\n",
      "|   0.1    | 100.0  |   balanced   |    100.0    |   93.93   |   93.93    | 480 |  0  | 31 | 0  |         nan         |         0.0         |\n",
      "|   0.1    | 100.0  |     None     |    95.43    |   93.93   |   93.93    | 480 |  0  | 31 | 0  |         nan         |         0.0         |\n",
      "|   1.0    | 0.0001 |   balanced   |    72.16    |   76.52   |   70.65    | 366 | 114 | 6  | 25 | 0.17985611510791366 |  0.8064516129032258 |\n",
      "|   1.0    | 0.0001 |     None     |    95.43    |   93.93   |   93.93    | 480 |  0  | 31 | 0  |         nan         |         0.0         |\n",
      "|   1.0    | 0.001  |   balanced   |    73.87    |   76.91   |   71.82    | 367 | 113 | 5  | 26 | 0.18705035971223022 |  0.8387096774193549 |\n",
      "|   1.0    | 0.001  |     None     |    95.43    |   93.93   |   93.93    | 480 |  0  | 31 | 0  |         nan         |         0.0         |\n",
      "|   1.0    |  0.01  |   balanced   |    79.43    |   80.04   |   78.47    | 388 |  92 | 10 | 21 | 0.18584070796460178 |  0.6774193548387096 |\n",
      "|   1.0    |  0.01  |     None     |    95.43    |   93.93   |   93.93    | 480 |  0  | 31 | 0  |         nan         |         0.0         |\n",
      "|   1.0    |  0.1   |   balanced   |     96.6    |   88.85   |   89.82    | 450 |  30 | 27 | 4  | 0.11764705882352941 | 0.12903225806451613 |\n",
      "|   1.0    |  0.1   |     None     |    95.84    |   93.93   |   93.74    | 480 |  0  | 31 | 0  |         nan         |         0.0         |\n",
      "|   1.0    |  1.0   |   balanced   |    99.98    |   93.93   |   93.93    | 480 |  0  | 31 | 0  |         nan         |         0.0         |\n",
      "|   1.0    |  1.0   |     None     |    99.71    |   93.93   |   93.93    | 480 |  0  | 31 | 0  |         nan         |         0.0         |\n",
      "|   1.0    |  10.0  |   balanced   |    100.0    |   93.93   |   93.93    | 480 |  0  | 31 | 0  |         nan         |         0.0         |\n",
      "|   1.0    |  10.0  |     None     |    100.0    |   93.93   |   93.93    | 480 |  0  | 31 | 0  |         nan         |         0.0         |\n",
      "|   1.0    | 100.0  |   balanced   |    100.0    |   93.93   |   93.93    | 480 |  0  | 31 | 0  |         nan         |         0.0         |\n",
      "|   1.0    | 100.0  |     None     |    100.0    |   93.93   |   93.93    | 480 |  0  | 31 | 0  |         nan         |         0.0         |\n",
      "|   10.0   | 0.0001 |   balanced   |    72.14    |   76.91   |   70.84    | 368 | 112 | 6  | 25 | 0.18248175182481752 |  0.8064516129032258 |\n",
      "|   10.0   | 0.0001 |     None     |    95.43    |   93.93   |   93.93    | 480 |  0  | 31 | 0  |         nan         |         0.0         |\n",
      "|   10.0   | 0.001  |   balanced   |    75.49    |    77.5   |   75.54    | 371 | 109 | 6  | 25 |  0.1865671641791045 |  0.8064516129032258 |\n",
      "|   10.0   | 0.001  |     None     |    95.43    |   93.93   |   93.93    | 480 |  0  | 31 | 0  |         nan         |         0.0         |\n",
      "|   10.0   |  0.01  |   balanced   |    87.96    |   80.63   |   83.95    | 396 |  84 | 15 | 16 |         0.16        |  0.5161290322580645 |\n",
      "|   10.0   |  0.01  |     None     |    95.74    |   93.93   |   93.93    | 480 |  0  | 31 | 0  |         nan         |         0.0         |\n",
      "|   10.0   |  0.1   |   balanced   |    99.76    |   91.78   |   91.78    | 468 |  12 | 30 | 1  | 0.07692307692307693 | 0.03225806451612903 |\n",
      "|   10.0   |  0.1   |     None     |    99.73    |   92.17   |   92.17    | 470 |  10 | 30 | 1  | 0.09090909090909091 | 0.03225806451612903 |\n",
      "|   10.0   |  1.0   |   balanced   |    100.0    |   93.93   |   93.93    | 480 |  0  | 31 | 0  |         nan         |         0.0         |\n",
      "|   10.0   |  1.0   |     None     |    100.0    |   93.93   |   93.93    | 480 |  0  | 31 | 0  |         nan         |         0.0         |\n",
      "|   10.0   |  10.0  |   balanced   |    100.0    |   93.93   |   93.93    | 480 |  0  | 31 | 0  |         nan         |         0.0         |\n",
      "|   10.0   |  10.0  |     None     |    100.0    |   93.93   |   93.93    | 480 |  0  | 31 | 0  |         nan         |         0.0         |\n",
      "|   10.0   | 100.0  |   balanced   |    100.0    |   93.93   |   93.93    | 480 |  0  | 31 | 0  |         nan         |         0.0         |\n",
      "|   10.0   | 100.0  |     None     |    100.0    |   93.93   |   93.93    | 480 |  0  | 31 | 0  |         nan         |         0.0         |\n",
      "|  100.0   | 0.0001 |   balanced   |    71.89    |   75.93   |   70.06    | 361 | 119 | 4  | 27 | 0.18493150684931506 |  0.8709677419354839 |\n",
      "|  100.0   | 0.0001 |     None     |    95.43    |   93.93   |   93.93    | 480 |  0  | 31 | 0  |         nan         |         0.0         |\n",
      "|  100.0   | 0.001  |   balanced   |    78.45    |   77.69   |   79.45    | 375 | 105 | 9  | 22 |  0.1732283464566929 |  0.7096774193548387 |\n",
      "|  100.0   | 0.001  |     None     |    95.45    |   93.93   |   93.93    | 480 |  0  | 31 | 0  |         nan         |         0.0         |\n",
      "|  100.0   |  0.01  |   balanced   |    95.79    |   87.67   |   88.26    | 437 |  43 | 20 | 11 |  0.2037037037037037 |  0.3548387096774194 |\n",
      "|  100.0   |  0.01  |     None     |     97.8    |   92.37   |   91.98    | 470 |  10 | 29 | 2  | 0.16666666666666666 | 0.06451612903225806 |\n",
      "|  100.0   |  0.1   |   balanced   |    100.0    |   92.17   |   91.39    | 470 |  10 | 30 | 1  | 0.09090909090909091 | 0.03225806451612903 |\n",
      "|  100.0   |  0.1   |     None     |    100.0    |   92.17   |   91.39    | 470 |  10 | 30 | 1  | 0.09090909090909091 | 0.03225806451612903 |\n",
      "|  100.0   |  1.0   |   balanced   |    100.0    |   93.93   |   93.93    | 480 |  0  | 31 | 0  |         nan         |         0.0         |\n",
      "|  100.0   |  1.0   |     None     |    100.0    |   93.93   |   93.93    | 480 |  0  | 31 | 0  |         nan         |         0.0         |\n",
      "|  100.0   |  10.0  |   balanced   |    100.0    |   93.93   |   93.93    | 480 |  0  | 31 | 0  |         nan         |         0.0         |\n",
      "|  100.0   |  10.0  |     None     |    100.0    |   93.93   |   93.93    | 480 |  0  | 31 | 0  |         nan         |         0.0         |\n",
      "|  100.0   | 100.0  |   balanced   |    100.0    |   93.93   |   93.93    | 480 |  0  | 31 | 0  |         nan         |         0.0         |\n",
      "|  100.0   | 100.0  |     None     |    100.0    |   93.93   |   93.93    | 480 |  0  | 31 | 0  |         nan         |         0.0         |\n",
      "|  1000.0  | 0.0001 |   balanced   |    73.26    |   74.95   |   73.19    | 358 | 122 | 6  | 25 | 0.17006802721088435 |  0.8064516129032258 |\n",
      "|  1000.0  | 0.0001 |     None     |    95.43    |   93.93   |   93.93    | 480 |  0  | 31 | 0  |         nan         |         0.0         |\n",
      "|  1000.0  | 0.001  |   balanced   |    83.76    |   79.84   |   82.39    | 393 |  87 | 16 | 15 | 0.14705882352941177 |  0.4838709677419355 |\n",
      "|  1000.0  | 0.001  |     None     |    95.47    |   93.93   |   93.93    | 480 |  0  | 31 | 0  |         nan         |         0.0         |\n",
      "|  1000.0  |  0.01  |   balanced   |    99.14    |   90.02   |   89.63    | 452 |  28 | 23 | 8  |  0.2222222222222222 | 0.25806451612903225 |\n",
      "|  1000.0  |  0.01  |     None     |    99.34    |   90.22   |   90.61    | 455 |  25 | 25 | 6  |  0.1935483870967742 |  0.1935483870967742 |\n",
      "|  1000.0  |  0.1   |   balanced   |    100.0    |   92.17   |   91.39    | 470 |  10 | 30 | 1  | 0.09090909090909091 | 0.03225806451612903 |\n",
      "|  1000.0  |  0.1   |     None     |    100.0    |   92.17   |   91.39    | 470 |  10 | 30 | 1  | 0.09090909090909091 | 0.03225806451612903 |\n",
      "|  1000.0  |  1.0   |   balanced   |    100.0    |   93.93   |   93.93    | 480 |  0  | 31 | 0  |         nan         |         0.0         |\n",
      "|  1000.0  |  1.0   |     None     |    100.0    |   93.93   |   93.93    | 480 |  0  | 31 | 0  |         nan         |         0.0         |\n",
      "|  1000.0  |  10.0  |   balanced   |    100.0    |   93.93   |   93.93    | 480 |  0  | 31 | 0  |         nan         |         0.0         |\n",
      "|  1000.0  |  10.0  |     None     |    100.0    |   93.93   |   93.93    | 480 |  0  | 31 | 0  |         nan         |         0.0         |\n",
      "|  1000.0  | 100.0  |   balanced   |    100.0    |   93.93   |   93.93    | 480 |  0  | 31 | 0  |         nan         |         0.0         |\n",
      "|  1000.0  | 100.0  |     None     |    100.0    |   93.93   |   93.93    | 480 |  0  | 31 | 0  |         nan         |         0.0         |\n",
      "| 10000.0  | 0.0001 |   balanced   |    74.44    |   74.56   |   73.97    | 358 | 122 | 8  | 23 | 0.15862068965517243 |  0.7419354838709677 |\n",
      "| 10000.0  | 0.0001 |     None     |    95.43    |   93.93   |   93.93    | 480 |  0  | 31 | 0  |         nan         |         0.0         |\n",
      "| 10000.0  | 0.001  |   balanced   |    87.38    |   80.82   |   83.56    | 402 |  78 | 20 | 11 | 0.12359550561797752 |  0.3548387096774194 |\n",
      "| 10000.0  | 0.001  |     None     |    96.11    |   93.93   |   92.95    | 479 |  1  | 30 | 1  |         0.5         | 0.03225806451612903 |\n",
      "| 10000.0  |  0.01  |   balanced   |    99.93    |   89.82   |   88.85    | 452 |  28 | 24 | 7  |         0.2         | 0.22580645161290322 |\n",
      "| 10000.0  |  0.01  |     None     |    99.95    |   89.82   |   88.85    | 452 |  28 | 24 | 7  |         0.2         | 0.22580645161290322 |\n",
      "| 10000.0  |  0.1   |   balanced   |    100.0    |   92.17   |   91.39    | 470 |  10 | 30 | 1  | 0.09090909090909091 | 0.03225806451612903 |\n",
      "| 10000.0  |  0.1   |     None     |    100.0    |   92.17   |   91.39    | 470 |  10 | 30 | 1  | 0.09090909090909091 | 0.03225806451612903 |\n",
      "| 10000.0  |  1.0   |   balanced   |    100.0    |   93.93   |   93.93    | 480 |  0  | 31 | 0  |         nan         |         0.0         |\n",
      "| 10000.0  |  1.0   |     None     |    100.0    |   93.93   |   93.93    | 480 |  0  | 31 | 0  |         nan         |         0.0         |\n",
      "| 10000.0  |  10.0  |   balanced   |    100.0    |   93.93   |   93.93    | 480 |  0  | 31 | 0  |         nan         |         0.0         |\n",
      "| 10000.0  |  10.0  |     None     |    100.0    |   93.93   |   93.93    | 480 |  0  | 31 | 0  |         nan         |         0.0         |\n",
      "| 10000.0  | 100.0  |   balanced   |    100.0    |   93.93   |   93.93    | 480 |  0  | 31 | 0  |         nan         |         0.0         |\n",
      "| 10000.0  | 100.0  |     None     |    100.0    |   93.93   |   93.93    | 480 |  0  | 31 | 0  |         nan         |         0.0         |\n",
      "| 100000.0 | 0.0001 |   balanced   |    77.08    |   76.52   |   75.93    | 369 | 111 | 9  | 22 | 0.16541353383458646 |  0.7096774193548387 |\n",
      "| 100000.0 | 0.0001 |     None     |    95.45    |   93.93   |   93.93    | 480 |  0  | 31 | 0  |         nan         |         0.0         |\n",
      "| 100000.0 | 0.001  |   balanced   |    91.93    |   84.74   |   86.11    | 425 |  55 | 23 | 8  | 0.12698412698412698 | 0.25806451612903225 |\n",
      "| 100000.0 | 0.001  |     None     |    97.31    |   92.95   |   92.37    | 470 |  10 | 26 | 5  |  0.3333333333333333 | 0.16129032258064516 |\n",
      "| 100000.0 |  0.01  |   balanced   |    100.0    |   89.82   |   89.43    | 454 |  26 | 26 | 5  | 0.16129032258064516 | 0.16129032258064516 |\n",
      "| 100000.0 |  0.01  |     None     |    100.0    |   89.82   |   89.43    | 454 |  26 | 26 | 5  | 0.16129032258064516 | 0.16129032258064516 |\n",
      "| 100000.0 |  0.1   |   balanced   |    100.0    |   92.17   |   91.39    | 470 |  10 | 30 | 1  | 0.09090909090909091 | 0.03225806451612903 |\n",
      "| 100000.0 |  0.1   |     None     |    100.0    |   92.17   |   91.39    | 470 |  10 | 30 | 1  | 0.09090909090909091 | 0.03225806451612903 |\n",
      "| 100000.0 |  1.0   |   balanced   |    100.0    |   93.93   |   93.93    | 480 |  0  | 31 | 0  |         nan         |         0.0         |\n",
      "| 100000.0 |  1.0   |     None     |    100.0    |   93.93   |   93.93    | 480 |  0  | 31 | 0  |         nan         |         0.0         |\n",
      "| 100000.0 |  10.0  |   balanced   |    100.0    |   93.93   |   93.93    | 480 |  0  | 31 | 0  |         nan         |         0.0         |\n",
      "| 100000.0 |  10.0  |     None     |    100.0    |   93.93   |   93.93    | 480 |  0  | 31 | 0  |         nan         |         0.0         |\n",
      "| 100000.0 | 100.0  |   balanced   |    100.0    |   93.93   |   93.93    | 480 |  0  | 31 | 0  |         nan         |         0.0         |\n",
      "| 100000.0 | 100.0  |     None     |    100.0    |   93.93   |   93.93    | 480 |  0  | 31 | 0  |         nan         |         0.0         |\n",
      "+----------+--------+--------------+-------------+-----------+------------+-----+-----+----+----+---------------------+---------------------+\n"
     ]
    }
   ],
   "source": [
    "# Create a table to display the results\n",
    "table = PrettyTable(['C', 'gamma', 'class_weight', 'train Acc %', 'val Acc %', 'Test Acc %', 'tn', 'fp', 'fn', 'tp', 'precision', 'recall'])\n",
    "\n",
    "# Add the results to the table\n",
    "for _, row in results.iterrows():\n",
    "    table.add_row([row['C'], row['gamma'], row['class_weight'], row['train_accuracy %'], row['val_accuracy %'], row['test_accuracy %'], row['tn'], row['fp'], row['fn'], row['tp'], row['precision'], row['recall']])\n",
    "\n",
    "# Print the table\n",
    "print(table)"
   ]
  },
  {
   "cell_type": "code",
   "execution_count": 72,
   "metadata": {},
   "outputs": [
    {
     "name": "stdout",
     "output_type": "stream",
     "text": [
      "Best model:\n"
     ]
    },
    {
     "data": {
      "text/html": [
       "<div>\n",
       "<style scoped>\n",
       "    .dataframe tbody tr th:only-of-type {\n",
       "        vertical-align: middle;\n",
       "    }\n",
       "\n",
       "    .dataframe tbody tr th {\n",
       "        vertical-align: top;\n",
       "    }\n",
       "\n",
       "    .dataframe thead th {\n",
       "        text-align: right;\n",
       "    }\n",
       "</style>\n",
       "<table border=\"1\" class=\"dataframe\">\n",
       "  <thead>\n",
       "    <tr style=\"text-align: right;\">\n",
       "      <th></th>\n",
       "      <th>C</th>\n",
       "      <th>gamma</th>\n",
       "      <th>class_weight</th>\n",
       "      <th>train Acc %</th>\n",
       "      <th>val Acc %</th>\n",
       "      <th>Test Acc %</th>\n",
       "      <th>tn</th>\n",
       "      <th>fp</th>\n",
       "      <th>fn</th>\n",
       "      <th>tp</th>\n",
       "      <th>precision</th>\n",
       "      <th>recall</th>\n",
       "      <th>f1_score</th>\n",
       "      <th>specificity</th>\n",
       "    </tr>\n",
       "  </thead>\n",
       "  <tbody>\n",
       "    <tr>\n",
       "      <th>73</th>\n",
       "      <td>10000.0</td>\n",
       "      <td>0.001</td>\n",
       "      <td>NaN</td>\n",
       "      <td>96.11</td>\n",
       "      <td>93.93</td>\n",
       "      <td>92.95</td>\n",
       "      <td>479</td>\n",
       "      <td>1</td>\n",
       "      <td>30</td>\n",
       "      <td>1</td>\n",
       "      <td>0.5</td>\n",
       "      <td>0.032258</td>\n",
       "      <td>0.060606</td>\n",
       "      <td>0.997917</td>\n",
       "    </tr>\n",
       "  </tbody>\n",
       "</table>\n",
       "</div>"
      ],
      "text/plain": [
       "          C  gamma class_weight  train Acc %  val Acc %  Test Acc %   tn fp  \\\n",
       "73  10000.0  0.001          NaN        96.11      93.93       92.95  479  1   \n",
       "\n",
       "    fn tp  precision    recall  f1_score  specificity  \n",
       "73  30  1        0.5  0.032258  0.060606     0.997917  "
      ]
     },
     "execution_count": 72,
     "metadata": {},
     "output_type": "execute_result"
    }
   ],
   "source": [
    "print('Best model:')\n",
    "df_results[0:1]"
   ]
  },
  {
   "cell_type": "code",
   "execution_count": 123,
   "metadata": {},
   "outputs": [
    {
     "name": "stdout",
     "output_type": "stream",
     "text": [
      "Accuracy:  93.93  %\n"
     ]
    }
   ],
   "source": [
    "# Instantiate the SVM classifier with chosen hyperparameters\n",
    "svm_best_model = SVC(C=10000, gamma=0.001, class_weight = None)\n",
    "\n",
    "# Train the SVM classifier on the training data\n",
    "svm_best_model.fit(X_val, y_val)\n",
    "\n",
    "# Make predictions on the validation data set\n",
    "y_pred_val = svm.predict(X_val)\n",
    "\n",
    "# Evaluate the performance of the SVM using accuracy, precision, and recall scores\n",
    "print('Accuracy: ', round(accuracy_score(y_val, y_pred_val)*100, 2), ' %')"
   ]
  },
  {
   "cell_type": "code",
   "execution_count": 124,
   "metadata": {},
   "outputs": [
    {
     "name": "stdout",
     "output_type": "stream",
     "text": [
      "              precision    recall  f1-score   support\n",
      "\n",
      "           0       0.94      1.00      0.97       480\n",
      "           1       0.50      0.03      0.06        31\n",
      "\n",
      "    accuracy                           0.94       511\n",
      "   macro avg       0.72      0.52      0.51       511\n",
      "weighted avg       0.91      0.94      0.91       511\n",
      "\n"
     ]
    }
   ],
   "source": [
    "# print classification report and compare with previous results\n",
    "print(classification_report(y_val, y_pred_val))"
   ]
  },
  {
   "cell_type": "markdown",
   "metadata": {},
   "source": [
    "#### iii.\tDecide which metrics to use in analysis (e.g. absolute error, RMSE, MSE, recall, precision, Fβ score, etc.); calculate them using the validation set and display them. Explain how these metrics will help you decide which model is best.\n"
   ]
  },
  {
   "cell_type": "markdown",
   "metadata": {},
   "source": [
    "I've included values for Recall, Precision, F-beta score, Sensitivity, and Specificity in the table. The critical error is a False Negative because we don't want a sick person to be predicted as healthy, as it could lead to their death. Therefore, besides accuracy, we should consider Recall and Precision as important metrics. To compare different models and decide which one is the best, it's a good idea to calculate these metrics on the validation set and compare them."
   ]
  },
  {
   "cell_type": "markdown",
   "metadata": {},
   "source": [
    "#### iv.\tIf you have a binary classification model, display the confusion matrix, ROC curve and AUC for the validation set.\n",
    "#### •\tCompare models and justify a final choice of hyperparameters based on the above quantitative analysis and the use case. Comment on overfitting, underfitting and any qualitative reasoning."
   ]
  },
  {
   "cell_type": "markdown",
   "metadata": {},
   "source": [
    "the best model is: "
   ]
  },
  {
   "cell_type": "code",
   "execution_count": 104,
   "metadata": {},
   "outputs": [
    {
     "name": "stdout",
     "output_type": "stream",
     "text": [
      "The best model is the next:\n"
     ]
    },
    {
     "data": {
      "text/html": [
       "<div>\n",
       "<style scoped>\n",
       "    .dataframe tbody tr th:only-of-type {\n",
       "        vertical-align: middle;\n",
       "    }\n",
       "\n",
       "    .dataframe tbody tr th {\n",
       "        vertical-align: top;\n",
       "    }\n",
       "\n",
       "    .dataframe thead th {\n",
       "        text-align: right;\n",
       "    }\n",
       "</style>\n",
       "<table border=\"1\" class=\"dataframe\">\n",
       "  <thead>\n",
       "    <tr style=\"text-align: right;\">\n",
       "      <th></th>\n",
       "      <th>C</th>\n",
       "      <th>gamma</th>\n",
       "      <th>class_weight</th>\n",
       "      <th>train Acc %</th>\n",
       "      <th>val Acc %</th>\n",
       "      <th>Test Acc %</th>\n",
       "      <th>tn</th>\n",
       "      <th>fp</th>\n",
       "      <th>fn</th>\n",
       "      <th>tp</th>\n",
       "      <th>precision</th>\n",
       "      <th>recall</th>\n",
       "      <th>f1_score</th>\n",
       "      <th>specificity</th>\n",
       "    </tr>\n",
       "  </thead>\n",
       "  <tbody>\n",
       "    <tr>\n",
       "      <th>73</th>\n",
       "      <td>10000.0</td>\n",
       "      <td>0.001</td>\n",
       "      <td>NaN</td>\n",
       "      <td>96.11</td>\n",
       "      <td>93.93</td>\n",
       "      <td>92.95</td>\n",
       "      <td>479</td>\n",
       "      <td>1</td>\n",
       "      <td>30</td>\n",
       "      <td>1</td>\n",
       "      <td>0.5</td>\n",
       "      <td>0.032258</td>\n",
       "      <td>0.060606</td>\n",
       "      <td>0.997917</td>\n",
       "    </tr>\n",
       "  </tbody>\n",
       "</table>\n",
       "</div>"
      ],
      "text/plain": [
       "          C  gamma class_weight  train Acc %  val Acc %  Test Acc %   tn fp  \\\n",
       "73  10000.0  0.001          NaN        96.11      93.93       92.95  479  1   \n",
       "\n",
       "    fn tp  precision    recall  f1_score  specificity  \n",
       "73  30  1        0.5  0.032258  0.060606     0.997917  "
      ]
     },
     "execution_count": 104,
     "metadata": {},
     "output_type": "execute_result"
    }
   ],
   "source": [
    "print('The best model is the next:')\n",
    "df_results[0:1]"
   ]
  },
  {
   "cell_type": "code",
   "execution_count": 125,
   "metadata": {},
   "outputs": [
    {
     "name": "stdout",
     "output_type": "stream",
     "text": [
      "Accuracy:  93.93  %\n",
      "              precision    recall  f1-score   support\n",
      "\n",
      "           0       0.94      1.00      0.97       480\n",
      "           1       0.50      0.03      0.06        31\n",
      "\n",
      "    accuracy                           0.94       511\n",
      "   macro avg       0.72      0.52      0.51       511\n",
      "weighted avg       0.91      0.94      0.91       511\n",
      "\n"
     ]
    }
   ],
   "source": [
    "# print classification report and acurracy for best model\n",
    "print('Accuracy: ', round(accuracy_score(y_val, y_pred_val)*100, 2), ' %')\n",
    "print(classification_report(y_val, y_pred_val))"
   ]
  },
  {
   "cell_type": "code",
   "execution_count": 126,
   "metadata": {},
   "outputs": [
    {
     "name": "stdout",
     "output_type": "stream",
     "text": [
      "[[479   1]\n",
      " [ 30   1]]\n"
     ]
    }
   ],
   "source": [
    "from sklearn.metrics import confusion_matrix\n",
    "\n",
    "# Compute the confusion matrix for validation set\n",
    "cm = confusion_matrix(y_val, y_pred_val)\n",
    "\n",
    "# Print the confusion matrix\n",
    "print(cm)\n"
   ]
  },
  {
   "cell_type": "code",
   "execution_count": 127,
   "metadata": {},
   "outputs": [
    {
     "data": {
      "image/png": "[encoded data removed]",
      "text/plain": [
       "<Figure size 720x720 with 1 Axes>"
      ]
     },
     "metadata": {
      "needs_background": "light"
     },
     "output_type": "display_data"
    }
   ],
   "source": [
    "import seaborn as sns\n",
    "import matplotlib.pyplot as plt\n",
    "from sklearn.metrics import confusion_matrix\n",
    "\n",
    "# Define class labels and colormap\n",
    "class_labels = ['Negative', 'Positive']\n",
    "cmap = sns.color_palette(\"Blues\", as_cmap=True)\n",
    "\n",
    "# Plot the confusion matrix using a heatmap\n",
    "sns.heatmap(cm, annot=True, cmap=cmap, fmt='g', \n",
    "            xticklabels=class_labels, yticklabels=class_labels,\n",
    "            cbar=False, annot_kws={\"fontsize\": 14})\n",
    "plt.xlabel('Predicted Class', fontsize=14)\n",
    "plt.ylabel('True Class', fontsize=14)\n",
    "plt.title('Confusion Matrix', fontsize=16)\n",
    "plt.show()\n"
   ]
  },
  {
   "cell_type": "code",
   "execution_count": 128,
   "metadata": {},
   "outputs": [
    {
     "data": {
      "image/png": "[encoded data removed]",
      "text/plain": [
       "<Figure size 720x720 with 1 Axes>"
      ]
     },
     "metadata": {
      "needs_background": "light"
     },
     "output_type": "display_data"
    }
   ],
   "source": [
    "import matplotlib.pyplot as plt\n",
    "from sklearn.metrics import roc_curve, roc_auc_score\n",
    "\n",
    "# Assuming you have predicted scores for the positive class\n",
    "y_scores = svm_best_model.decision_function(X_val)\n",
    "\n",
    "# Compute the false positive rate, true positive rate, and threshold\n",
    "fpr, tpr, thresholds = roc_curve(y_val, y_scores)\n",
    "\n",
    "# Compute the area under the ROC curve\n",
    "roc_auc = roc_auc_score(y_val, y_scores)\n",
    "\n",
    "# Plot the ROC curve and shade the area under the curve\n",
    "plt.plot(fpr, tpr, color='b', label='AUC = {:.2f}'.format(roc_auc))\n",
    "plt.fill_between(fpr, tpr, color='b', alpha=0.1)\n",
    "\n",
    "# Add labels and a legend to the plot\n",
    "plt.xlabel('False Positive Rate')\n",
    "plt.ylabel('True Positive Rate')\n",
    "plt.title('Receiver Operating Characteristic (ROC) Curve')\n",
    "plt.legend(loc='lower right')\n",
    "\n",
    "# Show the plot\n",
    "plt.show()\n"
   ]
  },
  {
   "cell_type": "markdown",
   "metadata": {},
   "source": [
    "After thoroughly evaluating various grids of hyperparameters, it became apparent that all models were overfitted, as they consistently showed higher accuracy on the training data compared to the validation set. Despite experimenting with different hyperparameters, the results remained largely unchanged. Eventually, I selected the model with manual parameters, as it demonstrated higher precision. However, it's important to note that all models displayed low values in true positives, which is a critical parameter for the study case. Additionally, the ROC and AUC curves did not conform to the expected rounded shape. Despite the imbalanced nature of some features and the target tag, the quantitative analysis was performed exceptionally well. However, this imbalance negatively impacted the model's precision.\n"
   ]
  },
  {
   "cell_type": "code",
   "execution_count": 133,
   "metadata": {},
   "outputs": [
    {
     "data": {
      "text/plain": [
       "['svm_best_model.joblib']"
      ]
     },
     "execution_count": 133,
     "metadata": {},
     "output_type": "execute_result"
    }
   ],
   "source": [
    "\n",
    "import joblib\n",
    "\n",
    "# Save the trained model\n",
    "joblib.dump(svm_best_model, 'svm_best_model.joblib')"
   ]
  },
  {
   "cell_type": "code",
   "execution_count": 136,
   "metadata": {},
   "outputs": [
    {
     "data": {
      "text/plain": [
       "['X_test.joblib']"
      ]
     },
     "execution_count": 136,
     "metadata": {},
     "output_type": "execute_result"
    }
   ],
   "source": [
    "# Save the trained model\n",
    "joblib.dump(X_test, 'X_test.joblib')"
   ]
  },
  {
   "cell_type": "code",
   "execution_count": 135,
   "metadata": {},
   "outputs": [
    {
     "data": {
      "text/plain": [
       "['y_test.joblib']"
      ]
     },
     "execution_count": 135,
     "metadata": {},
     "output_type": "execute_result"
    }
   ],
   "source": [
    "# Save the trained model\n",
    "joblib.dump(y_test, 'y_test.joblib')"
   ]
  },
  {
   "cell_type": "code",
   "execution_count": null,
   "metadata": {},
   "outputs": [],
   "source": []
  }
 ],
 "metadata": {
  "colab": {
   "provenance": []
  },
  "kernelspec": {
   "display_name": "Python 3",
   "language": "python",
   "name": "python3"
  },
  "language_info": {
   "codemirror_mode": {
    "name": "ipython",
    "version": 3
   },
   "file_extension": ".py",
   "mimetype": "text/x-python",
   "name": "python",
   "nbconvert_exporter": "python",
   "pygments_lexer": "ipython3",
   "version": "3.6.9"
  },
  "widgets": {
   "application/vnd.jupyter.widget-state+json": {
    "0ae6fd9b9ca24580b85e1ec9a6b9fab4": {
     "model_module": "@jupyter-widgets/base",
     "model_module_version": "1.2.0",
     "model_name": "LayoutModel",
     "state": {
      "_model_module": "@jupyter-widgets/base",
      "_model_module_version": "1.2.0",
      "_model_name": "LayoutModel",
      "_view_count": null,
      "_view_module": "@jupyter-widgets/base",
      "_view_module_version": "1.2.0",
      "_view_name": "LayoutView",
      "align_content": null,
      "align_items": null,
      "align_self": null,
      "border": null,
      "bottom": null,
      "display": null,
      "flex": null,
      "flex_flow": null,
      "grid_area": null,
      "grid_auto_columns": null,
      "grid_auto_flow": null,
      "grid_auto_rows": null,
      "grid_column": null,
      "grid_gap": null,
      "grid_row": null,
      "grid_template_areas": null,
      "grid_template_columns": null,
      "grid_template_rows": null,
      "height": null,
      "justify_content": null,
      "justify_items": null,
      "left": null,
      "margin": null,
      "max_height": null,
      "max_width": null,
      "min_height": null,
      "min_width": null,
      "object_fit": null,
      "object_position": null,
      "order": null,
      "overflow": null,
      "overflow_x": null,
      "overflow_y": null,
      "padding": null,
      "right": null,
      "top": null,
      "visibility": null,
      "width": null
     }
    },
    "158715a221dd4328991ff6ecbb1828b1": {
     "model_module": "@jupyter-widgets/controls",
     "model_module_version": "1.5.0",
     "model_name": "HTMLModel",
     "state": {
      "_dom_classes": [],
      "_model_module": "@jupyter-widgets/controls",
      "_model_module_version": "1.5.0",
      "_model_name": "HTMLModel",
      "_view_count": null,
      "_view_module": "@jupyter-widgets/controls",
      "_view_module_version": "1.5.0",
      "_view_name": "HTMLView",
      "description": "",
      "description_tooltip": null,
      "layout": "IPY_MODEL_abd27f8c0454412a8b4d7cf55a81134c",
      "placeholder": "​",
      "style": "IPY_MODEL_fd4e5a6b0c454027b996ddff3756eb88",
      "value": "Render HTML: 100%"
     }
    },
    "1da34b8e22a94e4e8df874bcdba0bfaa": {
     "model_module": "@jupyter-widgets/controls",
     "model_module_version": "1.5.0",
     "model_name": "DescriptionStyleModel",
     "state": {
      "_model_module": "@jupyter-widgets/controls",
      "_model_module_version": "1.5.0",
      "_model_name": "DescriptionStyleModel",
      "_view_count": null,
      "_view_module": "@jupyter-widgets/base",
      "_view_module_version": "1.2.0",
      "_view_name": "StyleView",
      "description_width": ""
     }
    },
    "2304f6cfa47d4f40aed2bb7e2b0f00c7": {
     "model_module": "@jupyter-widgets/base",
     "model_module_version": "1.2.0",
     "model_name": "LayoutModel",
     "state": {
      "_model_module": "@jupyter-widgets/base",
      "_model_module_version": "1.2.0",
      "_model_name": "LayoutModel",
      "_view_count": null,
      "_view_module": "@jupyter-widgets/base",
      "_view_module_version": "1.2.0",
      "_view_name": "LayoutView",
      "align_content": null,
      "align_items": null,
      "align_self": null,
      "border": null,
      "bottom": null,
      "display": null,
      "flex": null,
      "flex_flow": null,
      "grid_area": null,
      "grid_auto_columns": null,
      "grid_auto_flow": null,
      "grid_auto_rows": null,
      "grid_column": null,
      "grid_gap": null,
      "grid_row": null,
      "grid_template_areas": null,
      "grid_template_columns": null,
      "grid_template_rows": null,
      "height": null,
      "justify_content": null,
      "justify_items": null,
      "left": null,
      "margin": null,
      "max_height": null,
      "max_width": null,
      "min_height": null,
      "min_width": null,
      "object_fit": null,
      "object_position": null,
      "order": null,
      "overflow": null,
      "overflow_x": null,
      "overflow_y": null,
      "padding": null,
      "right": null,
      "top": null,
      "visibility": null,
      "width": null
     }
    },
    "25fbe37f509546c2832fdcef79dbedd1": {
     "model_module": "@jupyter-widgets/controls",
     "model_module_version": "1.5.0",
     "model_name": "FloatProgressModel",
     "state": {
      "_dom_classes": [],
      "_model_module": "@jupyter-widgets/controls",
      "_model_module_version": "1.5.0",
      "_model_name": "FloatProgressModel",
      "_view_count": null,
      "_view_module": "@jupyter-widgets/controls",
      "_view_module_version": "1.5.0",
      "_view_name": "ProgressView",
      "bar_style": "success",
      "description": "",
      "description_tooltip": null,
      "layout": "IPY_MODEL_56125a7c89fc4699a819170f67e4e6f3",
      "max": 1,
      "min": 0,
      "orientation": "horizontal",
      "style": "IPY_MODEL_2f86faf4d2fd4563b4f12e83b5f3a103",
      "value": 1
     }
    },
    "2f86faf4d2fd4563b4f12e83b5f3a103": {
     "model_module": "@jupyter-widgets/controls",
     "model_module_version": "1.5.0",
     "model_name": "ProgressStyleModel",
     "state": {
      "_model_module": "@jupyter-widgets/controls",
      "_model_module_version": "1.5.0",
      "_model_name": "ProgressStyleModel",
      "_view_count": null,
      "_view_module": "@jupyter-widgets/base",
      "_view_module_version": "1.2.0",
      "_view_name": "StyleView",
      "bar_color": null,
      "description_width": ""
     }
    },
    "31fd0263562f4ae9aa966a9c95137151": {
     "model_module": "@jupyter-widgets/controls",
     "model_module_version": "1.5.0",
     "model_name": "DescriptionStyleModel",
     "state": {
      "_model_module": "@jupyter-widgets/controls",
      "_model_module_version": "1.5.0",
      "_model_name": "DescriptionStyleModel",
      "_view_count": null,
      "_view_module": "@jupyter-widgets/base",
      "_view_module_version": "1.2.0",
      "_view_name": "StyleView",
      "description_width": ""
     }
    },
    "346a8c77703541d7bd4f39f5825a5f89": {
     "model_module": "@jupyter-widgets/controls",
     "model_module_version": "1.5.0",
     "model_name": "DescriptionStyleModel",
     "state": {
      "_model_module": "@jupyter-widgets/controls",
      "_model_module_version": "1.5.0",
      "_model_name": "DescriptionStyleModel",
      "_view_count": null,
      "_view_module": "@jupyter-widgets/base",
      "_view_module_version": "1.2.0",
      "_view_name": "StyleView",
      "description_width": ""
     }
    },
    "3496ddcaf67e489482a032acaaa18de0": {
     "model_module": "@jupyter-widgets/controls",
     "model_module_version": "1.5.0",
     "model_name": "DescriptionStyleModel",
     "state": {
      "_model_module": "@jupyter-widgets/controls",
      "_model_module_version": "1.5.0",
      "_model_name": "DescriptionStyleModel",
      "_view_count": null,
      "_view_module": "@jupyter-widgets/base",
      "_view_module_version": "1.2.0",
      "_view_name": "StyleView",
      "description_width": ""
     }
    },
    "361e40c5bea94e92a25a1c1e06dbc361": {
     "model_module": "@jupyter-widgets/controls",
     "model_module_version": "1.5.0",
     "model_name": "HTMLModel",
     "state": {
      "_dom_classes": [],
      "_model_module": "@jupyter-widgets/controls",
      "_model_module_version": "1.5.0",
      "_model_name": "HTMLModel",
      "_view_count": null,
      "_view_module": "@jupyter-widgets/controls",
      "_view_module_version": "1.5.0",
      "_view_name": "HTMLView",
      "description": "",
      "description_tooltip": null,
      "layout": "IPY_MODEL_97f803495bf7428da87107717bb10478",
      "placeholder": "​",
      "style": "IPY_MODEL_1da34b8e22a94e4e8df874bcdba0bfaa",
      "value": "Generate report structure: 100%"
     }
    },
    "39b895a2ff7e468087bd7c888206c55d": {
     "model_module": "@jupyter-widgets/controls",
     "model_module_version": "1.5.0",
     "model_name": "ProgressStyleModel",
     "state": {
      "_model_module": "@jupyter-widgets/controls",
      "_model_module_version": "1.5.0",
      "_model_name": "ProgressStyleModel",
      "_view_count": null,
      "_view_module": "@jupyter-widgets/base",
      "_view_module_version": "1.2.0",
      "_view_name": "StyleView",
      "bar_color": null,
      "description_width": ""
     }
    },
    "3c6020ed42e64777804bb2877124c873": {
     "model_module": "@jupyter-widgets/base",
     "model_module_version": "1.2.0",
     "model_name": "LayoutModel",
     "state": {
      "_model_module": "@jupyter-widgets/base",
      "_model_module_version": "1.2.0",
      "_model_name": "LayoutModel",
      "_view_count": null,
      "_view_module": "@jupyter-widgets/base",
      "_view_module_version": "1.2.0",
      "_view_name": "LayoutView",
      "align_content": null,
      "align_items": null,
      "align_self": null,
      "border": null,
      "bottom": null,
      "display": null,
      "flex": null,
      "flex_flow": null,
      "grid_area": null,
      "grid_auto_columns": null,
      "grid_auto_flow": null,
      "grid_auto_rows": null,
      "grid_column": null,
      "grid_gap": null,
      "grid_row": null,
      "grid_template_areas": null,
      "grid_template_columns": null,
      "grid_template_rows": null,
      "height": null,
      "justify_content": null,
      "justify_items": null,
      "left": null,
      "margin": null,
      "max_height": null,
      "max_width": null,
      "min_height": null,
      "min_width": null,
      "object_fit": null,
      "object_position": null,
      "order": null,
      "overflow": null,
      "overflow_x": null,
      "overflow_y": null,
      "padding": null,
      "right": null,
      "top": null,
      "visibility": null,
      "width": null
     }
    },
    "400c67b03b934bea9d094826acdaa484": {
     "model_module": "@jupyter-widgets/controls",
     "model_module_version": "1.5.0",
     "model_name": "HBoxModel",
     "state": {
      "_dom_classes": [],
      "_model_module": "@jupyter-widgets/controls",
      "_model_module_version": "1.5.0",
      "_model_name": "HBoxModel",
      "_view_count": null,
      "_view_module": "@jupyter-widgets/controls",
      "_view_module_version": "1.5.0",
      "_view_name": "HBoxView",
      "box_style": "",
      "children": [
       "IPY_MODEL_8da986fdc18a4d458bb3d389bb8e5a62",
       "IPY_MODEL_9db8196f9c544170b4cb8562c0942922",
       "IPY_MODEL_f1706e890999429eb842c2f7213d99c5"
      ],
      "layout": "IPY_MODEL_3c6020ed42e64777804bb2877124c873"
     }
    },
    "48aee71b6b0549a9ad07963d65bbf7dd": {
     "model_module": "@jupyter-widgets/controls",
     "model_module_version": "1.5.0",
     "model_name": "HTMLModel",
     "state": {
      "_dom_classes": [],
      "_model_module": "@jupyter-widgets/controls",
      "_model_module_version": "1.5.0",
      "_model_name": "HTMLModel",
      "_view_count": null,
      "_view_module": "@jupyter-widgets/controls",
      "_view_module_version": "1.5.0",
      "_view_name": "HTMLView",
      "description": "",
      "description_tooltip": null,
      "layout": "IPY_MODEL_db8a566d974b476e9e67d56ce8108f66",
      "placeholder": "​",
      "style": "IPY_MODEL_9c9a6494c3fd487faa5203330e79428d",
      "value": " 1/1 [00:07&lt;00:00,  7.37s/it]"
     }
    },
    "516a19c23f9940a4a946ae5dd96d7d17": {
     "model_module": "@jupyter-widgets/base",
     "model_module_version": "1.2.0",
     "model_name": "LayoutModel",
     "state": {
      "_model_module": "@jupyter-widgets/base",
      "_model_module_version": "1.2.0",
      "_model_name": "LayoutModel",
      "_view_count": null,
      "_view_module": "@jupyter-widgets/base",
      "_view_module_version": "1.2.0",
      "_view_name": "LayoutView",
      "align_content": null,
      "align_items": null,
      "align_self": null,
      "border": null,
      "bottom": null,
      "display": null,
      "flex": null,
      "flex_flow": null,
      "grid_area": null,
      "grid_auto_columns": null,
      "grid_auto_flow": null,
      "grid_auto_rows": null,
      "grid_column": null,
      "grid_gap": null,
      "grid_row": null,
      "grid_template_areas": null,
      "grid_template_columns": null,
      "grid_template_rows": null,
      "height": null,
      "justify_content": null,
      "justify_items": null,
      "left": null,
      "margin": null,
      "max_height": null,
      "max_width": null,
      "min_height": null,
      "min_width": null,
      "object_fit": null,
      "object_position": null,
      "order": null,
      "overflow": null,
      "overflow_x": null,
      "overflow_y": null,
      "padding": null,
      "right": null,
      "top": null,
      "visibility": null,
      "width": null
     }
    },
    "56125a7c89fc4699a819170f67e4e6f3": {
     "model_module": "@jupyter-widgets/base",
     "model_module_version": "1.2.0",
     "model_name": "LayoutModel",
     "state": {
      "_model_module": "@jupyter-widgets/base",
      "_model_module_version": "1.2.0",
      "_model_name": "LayoutModel",
      "_view_count": null,
      "_view_module": "@jupyter-widgets/base",
      "_view_module_version": "1.2.0",
      "_view_name": "LayoutView",
      "align_content": null,
      "align_items": null,
      "align_self": null,
      "border": null,
      "bottom": null,
      "display": null,
      "flex": null,
      "flex_flow": null,
      "grid_area": null,
      "grid_auto_columns": null,
      "grid_auto_flow": null,
      "grid_auto_rows": null,
      "grid_column": null,
      "grid_gap": null,
      "grid_row": null,
      "grid_template_areas": null,
      "grid_template_columns": null,
      "grid_template_rows": null,
      "height": null,
      "justify_content": null,
      "justify_items": null,
      "left": null,
      "margin": null,
      "max_height": null,
      "max_width": null,
      "min_height": null,
      "min_width": null,
      "object_fit": null,
      "object_position": null,
      "order": null,
      "overflow": null,
      "overflow_x": null,
      "overflow_y": null,
      "padding": null,
      "right": null,
      "top": null,
      "visibility": null,
      "width": null
     }
    },
    "56139f85019c44cb8c7bb026fe20bf08": {
     "model_module": "@jupyter-widgets/base",
     "model_module_version": "1.2.0",
     "model_name": "LayoutModel",
     "state": {
      "_model_module": "@jupyter-widgets/base",
      "_model_module_version": "1.2.0",
      "_model_name": "LayoutModel",
      "_view_count": null,
      "_view_module": "@jupyter-widgets/base",
      "_view_module_version": "1.2.0",
      "_view_name": "LayoutView",
      "align_content": null,
      "align_items": null,
      "align_self": null,
      "border": null,
      "bottom": null,
      "display": null,
      "flex": null,
      "flex_flow": null,
      "grid_area": null,
      "grid_auto_columns": null,
      "grid_auto_flow": null,
      "grid_auto_rows": null,
      "grid_column": null,
      "grid_gap": null,
      "grid_row": null,
      "grid_template_areas": null,
      "grid_template_columns": null,
      "grid_template_rows": null,
      "height": null,
      "justify_content": null,
      "justify_items": null,
      "left": null,
      "margin": null,
      "max_height": null,
      "max_width": null,
      "min_height": null,
      "min_width": null,
      "object_fit": null,
      "object_position": null,
      "order": null,
      "overflow": null,
      "overflow_x": null,
      "overflow_y": null,
      "padding": null,
      "right": null,
      "top": null,
      "visibility": null,
      "width": null
     }
    },
    "5840adbcde9d4abf8631b7aa69ed1ca5": {
     "model_module": "@jupyter-widgets/controls",
     "model_module_version": "1.5.0",
     "model_name": "DescriptionStyleModel",
     "state": {
      "_model_module": "@jupyter-widgets/controls",
      "_model_module_version": "1.5.0",
      "_model_name": "DescriptionStyleModel",
      "_view_count": null,
      "_view_module": "@jupyter-widgets/base",
      "_view_module_version": "1.2.0",
      "_view_name": "StyleView",
      "description_width": ""
     }
    },
    "5e8edcf4096f43c18d54b7392b3b5ff5": {
     "model_module": "@jupyter-widgets/controls",
     "model_module_version": "1.5.0",
     "model_name": "ProgressStyleModel",
     "state": {
      "_model_module": "@jupyter-widgets/controls",
      "_model_module_version": "1.5.0",
      "_model_name": "ProgressStyleModel",
      "_view_count": null,
      "_view_module": "@jupyter-widgets/base",
      "_view_module_version": "1.2.0",
      "_view_name": "StyleView",
      "bar_color": null,
      "description_width": ""
     }
    },
    "6a60ffd276f44f23959bce2fdb2c88fc": {
     "model_module": "@jupyter-widgets/controls",
     "model_module_version": "1.5.0",
     "model_name": "DescriptionStyleModel",
     "state": {
      "_model_module": "@jupyter-widgets/controls",
      "_model_module_version": "1.5.0",
      "_model_name": "DescriptionStyleModel",
      "_view_count": null,
      "_view_module": "@jupyter-widgets/base",
      "_view_module_version": "1.2.0",
      "_view_name": "StyleView",
      "description_width": ""
     }
    },
    "78bd7588dc8449e8a968012c1dca3a85": {
     "model_module": "@jupyter-widgets/controls",
     "model_module_version": "1.5.0",
     "model_name": "HTMLModel",
     "state": {
      "_dom_classes": [],
      "_model_module": "@jupyter-widgets/controls",
      "_model_module_version": "1.5.0",
      "_model_name": "HTMLModel",
      "_view_count": null,
      "_view_module": "@jupyter-widgets/controls",
      "_view_module_version": "1.5.0",
      "_view_name": "HTMLView",
      "description": "",
      "description_tooltip": null,
      "layout": "IPY_MODEL_7c96be23918a4861a60a29d93ae6d815",
      "placeholder": "​",
      "style": "IPY_MODEL_31fd0263562f4ae9aa966a9c95137151",
      "value": "Export report to file: 100%"
     }
    },
    "7c96be23918a4861a60a29d93ae6d815": {
     "model_module": "@jupyter-widgets/base",
     "model_module_version": "1.2.0",
     "model_name": "LayoutModel",
     "state": {
      "_model_module": "@jupyter-widgets/base",
      "_model_module_version": "1.2.0",
      "_model_name": "LayoutModel",
      "_view_count": null,
      "_view_module": "@jupyter-widgets/base",
      "_view_module_version": "1.2.0",
      "_view_name": "LayoutView",
      "align_content": null,
      "align_items": null,
      "align_self": null,
      "border": null,
      "bottom": null,
      "display": null,
      "flex": null,
      "flex_flow": null,
      "grid_area": null,
      "grid_auto_columns": null,
      "grid_auto_flow": null,
      "grid_auto_rows": null,
      "grid_column": null,
      "grid_gap": null,
      "grid_row": null,
      "grid_template_areas": null,
      "grid_template_columns": null,
      "grid_template_rows": null,
      "height": null,
      "justify_content": null,
      "justify_items": null,
      "left": null,
      "margin": null,
      "max_height": null,
      "max_width": null,
      "min_height": null,
      "min_width": null,
      "object_fit": null,
      "object_position": null,
      "order": null,
      "overflow": null,
      "overflow_x": null,
      "overflow_y": null,
      "padding": null,
      "right": null,
      "top": null,
      "visibility": null,
      "width": null
     }
    },
    "7d4ba17e850d4b63a9101ebf6e24ca7a": {
     "model_module": "@jupyter-widgets/controls",
     "model_module_version": "1.5.0",
     "model_name": "HBoxModel",
     "state": {
      "_dom_classes": [],
      "_model_module": "@jupyter-widgets/controls",
      "_model_module_version": "1.5.0",
      "_model_name": "HBoxModel",
      "_view_count": null,
      "_view_module": "@jupyter-widgets/controls",
      "_view_module_version": "1.5.0",
      "_view_name": "HBoxView",
      "box_style": "",
      "children": [
       "IPY_MODEL_78bd7588dc8449e8a968012c1dca3a85",
       "IPY_MODEL_a72da7d4b0434ef6aeced41d3e34b317",
       "IPY_MODEL_87bc46fc4f2e4e62b4e9d58d6ea46385"
      ],
      "layout": "IPY_MODEL_2304f6cfa47d4f40aed2bb7e2b0f00c7"
     }
    },
    "7e3b90e568064a2da9336ce00909c790": {
     "model_module": "@jupyter-widgets/controls",
     "model_module_version": "1.5.0",
     "model_name": "HBoxModel",
     "state": {
      "_dom_classes": [],
      "_model_module": "@jupyter-widgets/controls",
      "_model_module_version": "1.5.0",
      "_model_name": "HBoxModel",
      "_view_count": null,
      "_view_module": "@jupyter-widgets/controls",
      "_view_module_version": "1.5.0",
      "_view_name": "HBoxView",
      "box_style": "",
      "children": [
       "IPY_MODEL_361e40c5bea94e92a25a1c1e06dbc361",
       "IPY_MODEL_ab87b4d8b2544515a1a4697c13a26495",
       "IPY_MODEL_48aee71b6b0549a9ad07963d65bbf7dd"
      ],
      "layout": "IPY_MODEL_516a19c23f9940a4a946ae5dd96d7d17"
     }
    },
    "87bc46fc4f2e4e62b4e9d58d6ea46385": {
     "model_module": "@jupyter-widgets/controls",
     "model_module_version": "1.5.0",
     "model_name": "HTMLModel",
     "state": {
      "_dom_classes": [],
      "_model_module": "@jupyter-widgets/controls",
      "_model_module_version": "1.5.0",
      "_model_name": "HTMLModel",
      "_view_count": null,
      "_view_module": "@jupyter-widgets/controls",
      "_view_module_version": "1.5.0",
      "_view_name": "HTMLView",
      "description": "",
      "description_tooltip": null,
      "layout": "IPY_MODEL_c9c22a66af644ebfaf1e8ab3bf651e7e",
      "placeholder": "​",
      "style": "IPY_MODEL_5840adbcde9d4abf8631b7aa69ed1ca5",
      "value": " 1/1 [00:00&lt;00:00, 16.93it/s]"
     }
    },
    "8da986fdc18a4d458bb3d389bb8e5a62": {
     "model_module": "@jupyter-widgets/controls",
     "model_module_version": "1.5.0",
     "model_name": "HTMLModel",
     "state": {
      "_dom_classes": [],
      "_model_module": "@jupyter-widgets/controls",
      "_model_module_version": "1.5.0",
      "_model_name": "HTMLModel",
      "_view_count": null,
      "_view_module": "@jupyter-widgets/controls",
      "_view_module_version": "1.5.0",
      "_view_name": "HTMLView",
      "description": "",
      "description_tooltip": null,
      "layout": "IPY_MODEL_56139f85019c44cb8c7bb026fe20bf08",
      "placeholder": "​",
      "style": "IPY_MODEL_3496ddcaf67e489482a032acaaa18de0",
      "value": "Summarize dataset: 100%"
     }
    },
    "90cc5cdc4f77430f874da2505a0f1a65": {
     "model_module": "@jupyter-widgets/base",
     "model_module_version": "1.2.0",
     "model_name": "LayoutModel",
     "state": {
      "_model_module": "@jupyter-widgets/base",
      "_model_module_version": "1.2.0",
      "_model_name": "LayoutModel",
      "_view_count": null,
      "_view_module": "@jupyter-widgets/base",
      "_view_module_version": "1.2.0",
      "_view_name": "LayoutView",
      "align_content": null,
      "align_items": null,
      "align_self": null,
      "border": null,
      "bottom": null,
      "display": null,
      "flex": null,
      "flex_flow": null,
      "grid_area": null,
      "grid_auto_columns": null,
      "grid_auto_flow": null,
      "grid_auto_rows": null,
      "grid_column": null,
      "grid_gap": null,
      "grid_row": null,
      "grid_template_areas": null,
      "grid_template_columns": null,
      "grid_template_rows": null,
      "height": null,
      "justify_content": null,
      "justify_items": null,
      "left": null,
      "margin": null,
      "max_height": null,
      "max_width": null,
      "min_height": null,
      "min_width": null,
      "object_fit": null,
      "object_position": null,
      "order": null,
      "overflow": null,
      "overflow_x": null,
      "overflow_y": null,
      "padding": null,
      "right": null,
      "top": null,
      "visibility": null,
      "width": null
     }
    },
    "92a021a715724a11b62f97bbae49c9c4": {
     "model_module": "@jupyter-widgets/base",
     "model_module_version": "1.2.0",
     "model_name": "LayoutModel",
     "state": {
      "_model_module": "@jupyter-widgets/base",
      "_model_module_version": "1.2.0",
      "_model_name": "LayoutModel",
      "_view_count": null,
      "_view_module": "@jupyter-widgets/base",
      "_view_module_version": "1.2.0",
      "_view_name": "LayoutView",
      "align_content": null,
      "align_items": null,
      "align_self": null,
      "border": null,
      "bottom": null,
      "display": null,
      "flex": null,
      "flex_flow": null,
      "grid_area": null,
      "grid_auto_columns": null,
      "grid_auto_flow": null,
      "grid_auto_rows": null,
      "grid_column": null,
      "grid_gap": null,
      "grid_row": null,
      "grid_template_areas": null,
      "grid_template_columns": null,
      "grid_template_rows": null,
      "height": null,
      "justify_content": null,
      "justify_items": null,
      "left": null,
      "margin": null,
      "max_height": null,
      "max_width": null,
      "min_height": null,
      "min_width": null,
      "object_fit": null,
      "object_position": null,
      "order": null,
      "overflow": null,
      "overflow_x": null,
      "overflow_y": null,
      "padding": null,
      "right": null,
      "top": null,
      "visibility": null,
      "width": null
     }
    },
    "97f803495bf7428da87107717bb10478": {
     "model_module": "@jupyter-widgets/base",
     "model_module_version": "1.2.0",
     "model_name": "LayoutModel",
     "state": {
      "_model_module": "@jupyter-widgets/base",
      "_model_module_version": "1.2.0",
      "_model_name": "LayoutModel",
      "_view_count": null,
      "_view_module": "@jupyter-widgets/base",
      "_view_module_version": "1.2.0",
      "_view_name": "LayoutView",
      "align_content": null,
      "align_items": null,
      "align_self": null,
      "border": null,
      "bottom": null,
      "display": null,
      "flex": null,
      "flex_flow": null,
      "grid_area": null,
      "grid_auto_columns": null,
      "grid_auto_flow": null,
      "grid_auto_rows": null,
      "grid_column": null,
      "grid_gap": null,
      "grid_row": null,
      "grid_template_areas": null,
      "grid_template_columns": null,
      "grid_template_rows": null,
      "height": null,
      "justify_content": null,
      "justify_items": null,
      "left": null,
      "margin": null,
      "max_height": null,
      "max_width": null,
      "min_height": null,
      "min_width": null,
      "object_fit": null,
      "object_position": null,
      "order": null,
      "overflow": null,
      "overflow_x": null,
      "overflow_y": null,
      "padding": null,
      "right": null,
      "top": null,
      "visibility": null,
      "width": null
     }
    },
    "9c9a6494c3fd487faa5203330e79428d": {
     "model_module": "@jupyter-widgets/controls",
     "model_module_version": "1.5.0",
     "model_name": "DescriptionStyleModel",
     "state": {
      "_model_module": "@jupyter-widgets/controls",
      "_model_module_version": "1.5.0",
      "_model_name": "DescriptionStyleModel",
      "_view_count": null,
      "_view_module": "@jupyter-widgets/base",
      "_view_module_version": "1.2.0",
      "_view_name": "StyleView",
      "description_width": ""
     }
    },
    "9db8196f9c544170b4cb8562c0942922": {
     "model_module": "@jupyter-widgets/controls",
     "model_module_version": "1.5.0",
     "model_name": "FloatProgressModel",
     "state": {
      "_dom_classes": [],
      "_model_module": "@jupyter-widgets/controls",
      "_model_module_version": "1.5.0",
      "_model_name": "FloatProgressModel",
      "_view_count": null,
      "_view_module": "@jupyter-widgets/controls",
      "_view_module_version": "1.5.0",
      "_view_name": "ProgressView",
      "bar_style": "success",
      "description": "",
      "description_tooltip": null,
      "layout": "IPY_MODEL_92a021a715724a11b62f97bbae49c9c4",
      "max": 5,
      "min": 0,
      "orientation": "horizontal",
      "style": "IPY_MODEL_39b895a2ff7e468087bd7c888206c55d",
      "value": 5
     }
    },
    "9f9ff8e67daa4c90b10866b1ee244b9f": {
     "model_module": "@jupyter-widgets/base",
     "model_module_version": "1.2.0",
     "model_name": "LayoutModel",
     "state": {
      "_model_module": "@jupyter-widgets/base",
      "_model_module_version": "1.2.0",
      "_model_name": "LayoutModel",
      "_view_count": null,
      "_view_module": "@jupyter-widgets/base",
      "_view_module_version": "1.2.0",
      "_view_name": "LayoutView",
      "align_content": null,
      "align_items": null,
      "align_self": null,
      "border": null,
      "bottom": null,
      "display": null,
      "flex": null,
      "flex_flow": null,
      "grid_area": null,
      "grid_auto_columns": null,
      "grid_auto_flow": null,
      "grid_auto_rows": null,
      "grid_column": null,
      "grid_gap": null,
      "grid_row": null,
      "grid_template_areas": null,
      "grid_template_columns": null,
      "grid_template_rows": null,
      "height": null,
      "justify_content": null,
      "justify_items": null,
      "left": null,
      "margin": null,
      "max_height": null,
      "max_width": null,
      "min_height": null,
      "min_width": null,
      "object_fit": null,
      "object_position": null,
      "order": null,
      "overflow": null,
      "overflow_x": null,
      "overflow_y": null,
      "padding": null,
      "right": null,
      "top": null,
      "visibility": null,
      "width": null
     }
    },
    "a72da7d4b0434ef6aeced41d3e34b317": {
     "model_module": "@jupyter-widgets/controls",
     "model_module_version": "1.5.0",
     "model_name": "FloatProgressModel",
     "state": {
      "_dom_classes": [],
      "_model_module": "@jupyter-widgets/controls",
      "_model_module_version": "1.5.0",
      "_model_name": "FloatProgressModel",
      "_view_count": null,
      "_view_module": "@jupyter-widgets/controls",
      "_view_module_version": "1.5.0",
      "_view_name": "ProgressView",
      "bar_style": "success",
      "description": "",
      "description_tooltip": null,
      "layout": "IPY_MODEL_e0cca5d14411400d9d3eab92f331f022",
      "max": 1,
      "min": 0,
      "orientation": "horizontal",
      "style": "IPY_MODEL_5e8edcf4096f43c18d54b7392b3b5ff5",
      "value": 1
     }
    },
    "ab87b4d8b2544515a1a4697c13a26495": {
     "model_module": "@jupyter-widgets/controls",
     "model_module_version": "1.5.0",
     "model_name": "FloatProgressModel",
     "state": {
      "_dom_classes": [],
      "_model_module": "@jupyter-widgets/controls",
      "_model_module_version": "1.5.0",
      "_model_name": "FloatProgressModel",
      "_view_count": null,
      "_view_module": "@jupyter-widgets/controls",
      "_view_module_version": "1.5.0",
      "_view_name": "ProgressView",
      "bar_style": "success",
      "description": "",
      "description_tooltip": null,
      "layout": "IPY_MODEL_0ae6fd9b9ca24580b85e1ec9a6b9fab4",
      "max": 1,
      "min": 0,
      "orientation": "horizontal",
      "style": "IPY_MODEL_d3d3ebbfa5e4431ea089a01b9f22f817",
      "value": 1
     }
    },
    "abd27f8c0454412a8b4d7cf55a81134c": {
     "model_module": "@jupyter-widgets/base",
     "model_module_version": "1.2.0",
     "model_name": "LayoutModel",
     "state": {
      "_model_module": "@jupyter-widgets/base",
      "_model_module_version": "1.2.0",
      "_model_name": "LayoutModel",
      "_view_count": null,
      "_view_module": "@jupyter-widgets/base",
      "_view_module_version": "1.2.0",
      "_view_name": "LayoutView",
      "align_content": null,
      "align_items": null,
      "align_self": null,
      "border": null,
      "bottom": null,
      "display": null,
      "flex": null,
      "flex_flow": null,
      "grid_area": null,
      "grid_auto_columns": null,
      "grid_auto_flow": null,
      "grid_auto_rows": null,
      "grid_column": null,
      "grid_gap": null,
      "grid_row": null,
      "grid_template_areas": null,
      "grid_template_columns": null,
      "grid_template_rows": null,
      "height": null,
      "justify_content": null,
      "justify_items": null,
      "left": null,
      "margin": null,
      "max_height": null,
      "max_width": null,
      "min_height": null,
      "min_width": null,
      "object_fit": null,
      "object_position": null,
      "order": null,
      "overflow": null,
      "overflow_x": null,
      "overflow_y": null,
      "padding": null,
      "right": null,
      "top": null,
      "visibility": null,
      "width": null
     }
    },
    "c7a52b5f59134dfdacbebf05a2dcd7ce": {
     "model_module": "@jupyter-widgets/controls",
     "model_module_version": "1.5.0",
     "model_name": "HBoxModel",
     "state": {
      "_dom_classes": [],
      "_model_module": "@jupyter-widgets/controls",
      "_model_module_version": "1.5.0",
      "_model_name": "HBoxModel",
      "_view_count": null,
      "_view_module": "@jupyter-widgets/controls",
      "_view_module_version": "1.5.0",
      "_view_name": "HBoxView",
      "box_style": "",
      "children": [
       "IPY_MODEL_158715a221dd4328991ff6ecbb1828b1",
       "IPY_MODEL_25fbe37f509546c2832fdcef79dbedd1",
       "IPY_MODEL_cb9df11f12894ff59d542a51502364c0"
      ],
      "layout": "IPY_MODEL_90cc5cdc4f77430f874da2505a0f1a65"
     }
    },
    "c9c22a66af644ebfaf1e8ab3bf651e7e": {
     "model_module": "@jupyter-widgets/base",
     "model_module_version": "1.2.0",
     "model_name": "LayoutModel",
     "state": {
      "_model_module": "@jupyter-widgets/base",
      "_model_module_version": "1.2.0",
      "_model_name": "LayoutModel",
      "_view_count": null,
      "_view_module": "@jupyter-widgets/base",
      "_view_module_version": "1.2.0",
      "_view_name": "LayoutView",
      "align_content": null,
      "align_items": null,
      "align_self": null,
      "border": null,
      "bottom": null,
      "display": null,
      "flex": null,
      "flex_flow": null,
      "grid_area": null,
      "grid_auto_columns": null,
      "grid_auto_flow": null,
      "grid_auto_rows": null,
      "grid_column": null,
      "grid_gap": null,
      "grid_row": null,
      "grid_template_areas": null,
      "grid_template_columns": null,
      "grid_template_rows": null,
      "height": null,
      "justify_content": null,
      "justify_items": null,
      "left": null,
      "margin": null,
      "max_height": null,
      "max_width": null,
      "min_height": null,
      "min_width": null,
      "object_fit": null,
      "object_position": null,
      "order": null,
      "overflow": null,
      "overflow_x": null,
      "overflow_y": null,
      "padding": null,
      "right": null,
      "top": null,
      "visibility": null,
      "width": null
     }
    },
    "cb9df11f12894ff59d542a51502364c0": {
     "model_module": "@jupyter-widgets/controls",
     "model_module_version": "1.5.0",
     "model_name": "HTMLModel",
     "state": {
      "_dom_classes": [],
      "_model_module": "@jupyter-widgets/controls",
      "_model_module_version": "1.5.0",
      "_model_name": "HTMLModel",
      "_view_count": null,
      "_view_module": "@jupyter-widgets/controls",
      "_view_module_version": "1.5.0",
      "_view_name": "HTMLView",
      "description": "",
      "description_tooltip": null,
      "layout": "IPY_MODEL_9f9ff8e67daa4c90b10866b1ee244b9f",
      "placeholder": "​",
      "style": "IPY_MODEL_6a60ffd276f44f23959bce2fdb2c88fc",
      "value": " 1/1 [00:01&lt;00:00,  1.65s/it]"
     }
    },
    "d0898611ef034f828a1bf19d1dbe63d4": {
     "model_module": "@jupyter-widgets/base",
     "model_module_version": "1.2.0",
     "model_name": "LayoutModel",
     "state": {
      "_model_module": "@jupyter-widgets/base",
      "_model_module_version": "1.2.0",
      "_model_name": "LayoutModel",
      "_view_count": null,
      "_view_module": "@jupyter-widgets/base",
      "_view_module_version": "1.2.0",
      "_view_name": "LayoutView",
      "align_content": null,
      "align_items": null,
      "align_self": null,
      "border": null,
      "bottom": null,
      "display": null,
      "flex": null,
      "flex_flow": null,
      "grid_area": null,
      "grid_auto_columns": null,
      "grid_auto_flow": null,
      "grid_auto_rows": null,
      "grid_column": null,
      "grid_gap": null,
      "grid_row": null,
      "grid_template_areas": null,
      "grid_template_columns": null,
      "grid_template_rows": null,
      "height": null,
      "justify_content": null,
      "justify_items": null,
      "left": null,
      "margin": null,
      "max_height": null,
      "max_width": null,
      "min_height": null,
      "min_width": null,
      "object_fit": null,
      "object_position": null,
      "order": null,
      "overflow": null,
      "overflow_x": null,
      "overflow_y": null,
      "padding": null,
      "right": null,
      "top": null,
      "visibility": null,
      "width": null
     }
    },
    "d3d3ebbfa5e4431ea089a01b9f22f817": {
     "model_module": "@jupyter-widgets/controls",
     "model_module_version": "1.5.0",
     "model_name": "ProgressStyleModel",
     "state": {
      "_model_module": "@jupyter-widgets/controls",
      "_model_module_version": "1.5.0",
      "_model_name": "ProgressStyleModel",
      "_view_count": null,
      "_view_module": "@jupyter-widgets/base",
      "_view_module_version": "1.2.0",
      "_view_name": "StyleView",
      "bar_color": null,
      "description_width": ""
     }
    },
    "db8a566d974b476e9e67d56ce8108f66": {
     "model_module": "@jupyter-widgets/base",
     "model_module_version": "1.2.0",
     "model_name": "LayoutModel",
     "state": {
      "_model_module": "@jupyter-widgets/base",
      "_model_module_version": "1.2.0",
      "_model_name": "LayoutModel",
      "_view_count": null,
      "_view_module": "@jupyter-widgets/base",
      "_view_module_version": "1.2.0",
      "_view_name": "LayoutView",
      "align_content": null,
      "align_items": null,
      "align_self": null,
      "border": null,
      "bottom": null,
      "display": null,
      "flex": null,
      "flex_flow": null,
      "grid_area": null,
      "grid_auto_columns": null,
      "grid_auto_flow": null,
      "grid_auto_rows": null,
      "grid_column": null,
      "grid_gap": null,
      "grid_row": null,
      "grid_template_areas": null,
      "grid_template_columns": null,
      "grid_template_rows": null,
      "height": null,
      "justify_content": null,
      "justify_items": null,
      "left": null,
      "margin": null,
      "max_height": null,
      "max_width": null,
      "min_height": null,
      "min_width": null,
      "object_fit": null,
      "object_position": null,
      "order": null,
      "overflow": null,
      "overflow_x": null,
      "overflow_y": null,
      "padding": null,
      "right": null,
      "top": null,
      "visibility": null,
      "width": null
     }
    },
    "e0cca5d14411400d9d3eab92f331f022": {
     "model_module": "@jupyter-widgets/base",
     "model_module_version": "1.2.0",
     "model_name": "LayoutModel",
     "state": {
      "_model_module": "@jupyter-widgets/base",
      "_model_module_version": "1.2.0",
      "_model_name": "LayoutModel",
      "_view_count": null,
      "_view_module": "@jupyter-widgets/base",
      "_view_module_version": "1.2.0",
      "_view_name": "LayoutView",
      "align_content": null,
      "align_items": null,
      "align_self": null,
      "border": null,
      "bottom": null,
      "display": null,
      "flex": null,
      "flex_flow": null,
      "grid_area": null,
      "grid_auto_columns": null,
      "grid_auto_flow": null,
      "grid_auto_rows": null,
      "grid_column": null,
      "grid_gap": null,
      "grid_row": null,
      "grid_template_areas": null,
      "grid_template_columns": null,
      "grid_template_rows": null,
      "height": null,
      "justify_content": null,
      "justify_items": null,
      "left": null,
      "margin": null,
      "max_height": null,
      "max_width": null,
      "min_height": null,
      "min_width": null,
      "object_fit": null,
      "object_position": null,
      "order": null,
      "overflow": null,
      "overflow_x": null,
      "overflow_y": null,
      "padding": null,
      "right": null,
      "top": null,
      "visibility": null,
      "width": null
     }
    },
    "f1706e890999429eb842c2f7213d99c5": {
     "model_module": "@jupyter-widgets/controls",
     "model_module_version": "1.5.0",
     "model_name": "HTMLModel",
     "state": {
      "_dom_classes": [],
      "_model_module": "@jupyter-widgets/controls",
      "_model_module_version": "1.5.0",
      "_model_name": "HTMLModel",
      "_view_count": null,
      "_view_module": "@jupyter-widgets/controls",
      "_view_module_version": "1.5.0",
      "_view_name": "HTMLView",
      "description": "",
      "description_tooltip": null,
      "layout": "IPY_MODEL_d0898611ef034f828a1bf19d1dbe63d4",
      "placeholder": "​",
      "style": "IPY_MODEL_346a8c77703541d7bd4f39f5825a5f89",
      "value": " 23/23 [00:03&lt;00:00,  3.89it/s, Completed]"
     }
    },
    "fd4e5a6b0c454027b996ddff3756eb88": {
     "model_module": "@jupyter-widgets/controls",
     "model_module_version": "1.5.0",
     "model_name": "DescriptionStyleModel",
     "state": {
      "_model_module": "@jupyter-widgets/controls",
      "_model_module_version": "1.5.0",
      "_model_name": "DescriptionStyleModel",
      "_view_count": null,
      "_view_module": "@jupyter-widgets/base",
      "_view_module_version": "1.2.0",
      "_view_name": "StyleView",
      "description_width": ""
     }
    }
   }
  }
 },
 "nbformat": 4,
 "nbformat_minor": 1
}
